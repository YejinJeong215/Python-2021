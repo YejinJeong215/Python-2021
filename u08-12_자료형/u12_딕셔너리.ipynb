{
  "nbformat": 4,
  "nbformat_minor": 0,
  "metadata": {
    "colab": {
      "name": "u12_딕셔너리.ipynb",
      "provenance": [],
      "collapsed_sections": []
    },
    "kernelspec": {
      "name": "python3",
      "display_name": "Python 3"
    },
    "language_info": {
      "name": "python"
    }
  },
  "cells": [
    {
      "cell_type": "markdown",
      "metadata": {
        "id": "yUVnWBMJRgmI"
      },
      "source": [
        "# Unit 12. 딕셔너리(Dictionary)"
      ]
    },
    {
      "cell_type": "code",
      "metadata": {
        "colab": {
          "base_uri": "https://localhost:8080/"
        },
        "id": "y9s2iK2HRc4y",
        "outputId": "26091c0c-3ded-45f3-fc8f-c6784b21784c"
      },
      "source": [
        "lux = [490, 334, 550, 18.72]\n",
        "lux"
      ],
      "execution_count": null,
      "outputs": [
        {
          "output_type": "execute_result",
          "data": {
            "text/plain": [
              "[490, 334, 550, 18.72]"
            ]
          },
          "metadata": {
            "tags": []
          },
          "execution_count": 1
        }
      ]
    },
    {
      "cell_type": "code",
      "metadata": {
        "colab": {
          "base_uri": "https://localhost:8080/"
        },
        "id": "vu5jMd3jSEu1",
        "outputId": "1fadbeb7-5751-422d-b65a-abae193e4523"
      },
      "source": [
        "lux ={\n",
        "    'health': 490,    # 체력\n",
        "    'mana': 334,      # 기력\n",
        "    'melee': 550,     # 사거리\n",
        "    'armor': 18.72    # 방어력\n",
        "}\n",
        "lux"
      ],
      "execution_count": null,
      "outputs": [
        {
          "output_type": "execute_result",
          "data": {
            "text/plain": [
              "{'armor': 18.72, 'health': 490, 'mana': 334, 'melee': 550}"
            ]
          },
          "metadata": {
            "tags": []
          },
          "execution_count": 2
        }
      ]
    },
    {
      "cell_type": "markdown",
      "metadata": {
        "id": "BWxqbnLeSo1K"
      },
      "source": [
        "## 12.1 딕셔너리 생성\n",
        "- key: value 쌍으로 구성"
      ]
    },
    {
      "cell_type": "code",
      "metadata": {
        "colab": {
          "base_uri": "https://localhost:8080/"
        },
        "id": "nb4A8M9fSlUx",
        "outputId": "146e08c8-a568-4e75-9bab-29e71b50d1b3"
      },
      "source": [
        "lux = {'health': 490, 'health': 800, 'mana': 334, 'melee': 550, 'armor':18.72}\n",
        "lux"
      ],
      "execution_count": null,
      "outputs": [
        {
          "output_type": "execute_result",
          "data": {
            "text/plain": [
              "{'armor': 18.72, 'health': 800, 'mana': 334, 'melee': 550}"
            ]
          },
          "metadata": {
            "tags": []
          },
          "execution_count": 3
        }
      ]
    },
    {
      "cell_type": "code",
      "metadata": {
        "colab": {
          "base_uri": "https://localhost:8080/"
        },
        "id": "jhuw7b7oTuD0",
        "outputId": "a0893e7d-fd99-479f-ec8b-5cb264374e66"
      },
      "source": [
        "# 빈 딕셔너리\n",
        "a = {}\n",
        "b = dict()\n",
        "a, b"
      ],
      "execution_count": null,
      "outputs": [
        {
          "output_type": "execute_result",
          "data": {
            "text/plain": [
              "({}, {})"
            ]
          },
          "metadata": {
            "tags": []
          },
          "execution_count": 4
        }
      ]
    },
    {
      "cell_type": "code",
      "metadata": {
        "colab": {
          "base_uri": "https://localhost:8080/"
        },
        "id": "db2aMA3pT_wh",
        "outputId": "85416938-24b0-469a-c540-b3b443cfcc29"
      },
      "source": [
        "a = set((1, 2, 3))\n",
        "a"
      ],
      "execution_count": null,
      "outputs": [
        {
          "output_type": "execute_result",
          "data": {
            "text/plain": [
              "{1, 2, 3}"
            ]
          },
          "metadata": {
            "tags": []
          },
          "execution_count": 5
        }
      ]
    },
    {
      "cell_type": "code",
      "metadata": {
        "colab": {
          "base_uri": "https://localhost:8080/"
        },
        "id": "eaU_7A6GVGHZ",
        "outputId": "30856dbe-c7ac-48c2-82c2-d2dd960d9b09"
      },
      "source": [
        "a = ['a', 'b', 'c', 'd']\n",
        "b = [1, 2, 3, 4]\n",
        "zip(a, b)"
      ],
      "execution_count": null,
      "outputs": [
        {
          "output_type": "execute_result",
          "data": {
            "text/plain": [
              "<zip at 0x7f6c0bfdb640>"
            ]
          },
          "metadata": {
            "tags": []
          },
          "execution_count": 6
        }
      ]
    },
    {
      "cell_type": "code",
      "metadata": {
        "colab": {
          "base_uri": "https://localhost:8080/"
        },
        "id": "IOtMabUDVe2n",
        "outputId": "72d586cd-4b63-45d4-95b2-b9c0b29b515d"
      },
      "source": [
        "dict(zip(a,b))    # zip : 지퍼처럼 양쪽에 있는 element 하나씩 엮어줌"
      ],
      "execution_count": null,
      "outputs": [
        {
          "output_type": "execute_result",
          "data": {
            "text/plain": [
              "{'a': 1, 'b': 2, 'c': 3, 'd': 4}"
            ]
          },
          "metadata": {
            "tags": []
          },
          "execution_count": 7
        }
      ]
    },
    {
      "cell_type": "markdown",
      "metadata": {
        "id": "mnYrppu3V3UW"
      },
      "source": [
        "## 12.2 딕셔너리 키에 접근하고 값 할당하기"
      ]
    },
    {
      "cell_type": "code",
      "metadata": {
        "colab": {
          "base_uri": "https://localhost:8080/"
        },
        "id": "V2u7FVK9VmbW",
        "outputId": "35f71ab7-83c5-4a24-bc80-962ab04905ed"
      },
      "source": [
        "lux"
      ],
      "execution_count": null,
      "outputs": [
        {
          "output_type": "execute_result",
          "data": {
            "text/plain": [
              "{'armor': 18.72, 'health': 800, 'mana': 334, 'melee': 550}"
            ]
          },
          "metadata": {
            "tags": []
          },
          "execution_count": 8
        }
      ]
    },
    {
      "cell_type": "code",
      "metadata": {
        "colab": {
          "base_uri": "https://localhost:8080/"
        },
        "id": "WcAGq3h9WC-H",
        "outputId": "169402b0-5f95-4869-f377-48d1b237d807"
      },
      "source": [
        "lux['mana'], lux['armor']"
      ],
      "execution_count": null,
      "outputs": [
        {
          "output_type": "execute_result",
          "data": {
            "text/plain": [
              "(334, 18.72)"
            ]
          },
          "metadata": {
            "tags": []
          },
          "execution_count": 10
        }
      ]
    },
    {
      "cell_type": "code",
      "metadata": {
        "colab": {
          "base_uri": "https://localhost:8080/"
        },
        "id": "so8HsNN3WIoB",
        "outputId": "9bc42155-f0f6-4b85-de8c-77e846d7a50a"
      },
      "source": [
        "# 키 값이 기존 딕셔너리에 없으면 새롭게 추가\n",
        "lux['new'] = 10\n",
        "lux"
      ],
      "execution_count": null,
      "outputs": [
        {
          "output_type": "execute_result",
          "data": {
            "text/plain": [
              "{'armor': 18.72, 'health': 800, 'mana': 334, 'melee': 550, 'new': 10}"
            ]
          },
          "metadata": {
            "tags": []
          },
          "execution_count": 11
        }
      ]
    },
    {
      "cell_type": "code",
      "metadata": {
        "colab": {
          "base_uri": "https://localhost:8080/"
        },
        "id": "gp3BJHhxXKti",
        "outputId": "2f9eef1a-79a9-43ef-b231-8e7f39312186"
      },
      "source": [
        "# 키 값이 딕셔너리에 있으면 값이 변경\n",
        "lux['mana'] = 1000\n",
        "lux"
      ],
      "execution_count": null,
      "outputs": [
        {
          "output_type": "execute_result",
          "data": {
            "text/plain": [
              "{'armor': 18.72, 'health': 800, 'mana': 1000, 'melee': 550, 'new': 10}"
            ]
          },
          "metadata": {
            "tags": []
          },
          "execution_count": 12
        }
      ]
    },
    {
      "cell_type": "code",
      "metadata": {
        "colab": {
          "base_uri": "https://localhost:8080/"
        },
        "id": "VBsYgwWtXZOb",
        "outputId": "d9a1b424-ecb9-477b-82e8-fd1408ba7afc"
      },
      "source": [
        "'mana' in lux"
      ],
      "execution_count": null,
      "outputs": [
        {
          "output_type": "execute_result",
          "data": {
            "text/plain": [
              "True"
            ]
          },
          "metadata": {
            "tags": []
          },
          "execution_count": 13
        }
      ]
    },
    {
      "cell_type": "code",
      "metadata": {
        "colab": {
          "base_uri": "https://localhost:8080/"
        },
        "id": "uwFxauuTYR4c",
        "outputId": "b733184e-04e7-4620-af0f-0fe925c008d5"
      },
      "source": [
        "# 'mana' 항목이 존재하면 기존 값 + 100, 없으면 값이 50이 되게 만드시오.\n",
        "e = {'mana': 150}\n",
        "\n",
        "if 'mana' in e:\n",
        "  e['mana'] = e['mana'] + 100\n",
        "else:\n",
        "  e['mana'] = 50\n",
        "\n",
        "e"
      ],
      "execution_count": null,
      "outputs": [
        {
          "output_type": "execute_result",
          "data": {
            "text/plain": [
              "{'mana': 250}"
            ]
          },
          "metadata": {
            "tags": []
          },
          "execution_count": 14
        }
      ]
    },
    {
      "cell_type": "code",
      "metadata": {
        "colab": {
          "base_uri": "https://localhost:8080/"
        },
        "id": "LJ-OwS1xY06p",
        "outputId": "59c6ca6f-f6c1-424e-fa8e-9a4763129a09"
      },
      "source": [
        "# 'mana' 항목이 존재하면 기존 값 + 100, 없으면 값이 50이 되게 만드시오.\n",
        "e = {}\n",
        "\n",
        "if 'mana' in e:\n",
        "  e['mana'] = e['mana'] + 100\n",
        "else:\n",
        "  e['mana'] = 50\n",
        "\n",
        "e"
      ],
      "execution_count": null,
      "outputs": [
        {
          "output_type": "execute_result",
          "data": {
            "text/plain": [
              "{'mana': 50}"
            ]
          },
          "metadata": {
            "tags": []
          },
          "execution_count": 15
        }
      ]
    },
    {
      "cell_type": "markdown",
      "metadata": {
        "id": "e3FFk2ijZQCh"
      },
      "source": [
        "### 딕셔너리 키의 갯수"
      ]
    },
    {
      "cell_type": "code",
      "metadata": {
        "colab": {
          "base_uri": "https://localhost:8080/"
        },
        "id": "LqNCvzWxY39-",
        "outputId": "015a8355-7ea5-4265-f66d-39712181e917"
      },
      "source": [
        "lux"
      ],
      "execution_count": null,
      "outputs": [
        {
          "output_type": "execute_result",
          "data": {
            "text/plain": [
              "{'armor': 18.72, 'health': 800, 'mana': 1000, 'melee': 550, 'new': 10}"
            ]
          },
          "metadata": {
            "tags": []
          },
          "execution_count": 16
        }
      ]
    },
    {
      "cell_type": "code",
      "metadata": {
        "colab": {
          "base_uri": "https://localhost:8080/"
        },
        "id": "sHddwkwdZSqI",
        "outputId": "4452fd4e-679a-4f7c-a3df-473f70919d9c"
      },
      "source": [
        "len(lux)"
      ],
      "execution_count": null,
      "outputs": [
        {
          "output_type": "execute_result",
          "data": {
            "text/plain": [
              "5"
            ]
          },
          "metadata": {
            "tags": []
          },
          "execution_count": 17
        }
      ]
    },
    {
      "cell_type": "markdown",
      "metadata": {
        "id": "ho2N8JLyZ71y"
      },
      "source": [
        "### 자료형"
      ]
    },
    {
      "cell_type": "code",
      "metadata": {
        "colab": {
          "base_uri": "https://localhost:8080/"
        },
        "id": "1nnScddzZTfE",
        "outputId": "3755afd2-931e-4d68-aa7c-03fea1fbdff7"
      },
      "source": [
        "type(lux)"
      ],
      "execution_count": null,
      "outputs": [
        {
          "output_type": "execute_result",
          "data": {
            "text/plain": [
              "dict"
            ]
          },
          "metadata": {
            "tags": []
          },
          "execution_count": 18
        }
      ]
    },
    {
      "cell_type": "code",
      "metadata": {
        "colab": {
          "base_uri": "https://localhost:8080/"
        },
        "id": "xUCQMAT1Z5gt",
        "outputId": "7cbbbfd4-5abe-4faf-e664-8f90284cd809"
      },
      "source": [
        "type(lux['armor'])"
      ],
      "execution_count": null,
      "outputs": [
        {
          "output_type": "execute_result",
          "data": {
            "text/plain": [
              "float"
            ]
          },
          "metadata": {
            "tags": []
          },
          "execution_count": 19
        }
      ]
    },
    {
      "cell_type": "code",
      "metadata": {
        "colab": {
          "base_uri": "https://localhost:8080/"
        },
        "id": "PySxfl_EZ_5X",
        "outputId": "f65fecb0-8bd6-459b-c296-7eb0f3dcadf6"
      },
      "source": [
        "lux.keys()"
      ],
      "execution_count": null,
      "outputs": [
        {
          "output_type": "execute_result",
          "data": {
            "text/plain": [
              "dict_keys(['health', 'mana', 'melee', 'armor', 'new'])"
            ]
          },
          "metadata": {
            "tags": []
          },
          "execution_count": 20
        }
      ]
    },
    {
      "cell_type": "code",
      "metadata": {
        "colab": {
          "base_uri": "https://localhost:8080/"
        },
        "id": "7wmpV8cTakSL",
        "outputId": "eb56e7af-910f-4e3b-8c11-7a240f89cee6"
      },
      "source": [
        "for key in lux.keys():\n",
        "  print(f'{key}: {lux[key]}')"
      ],
      "execution_count": null,
      "outputs": [
        {
          "output_type": "stream",
          "text": [
            "health: 800\n",
            "mana: 1000\n",
            "melee: 550\n",
            "armor: 18.72\n",
            "new: 10\n"
          ],
          "name": "stdout"
        }
      ]
    },
    {
      "cell_type": "code",
      "metadata": {
        "colab": {
          "base_uri": "https://localhost:8080/"
        },
        "id": "nXRUOvH7bCAJ",
        "outputId": "44d30d27-4aea-4a03-c70f-1dbea0735c73"
      },
      "source": [
        "for key, value in lux.items():\n",
        "  print(f'{key}: {value}')"
      ],
      "execution_count": null,
      "outputs": [
        {
          "output_type": "stream",
          "text": [
            "health: 800\n",
            "mana: 1000\n",
            "melee: 550\n",
            "armor: 18.72\n",
            "new: 10\n"
          ],
          "name": "stdout"
        }
      ]
    },
    {
      "cell_type": "code",
      "metadata": {
        "id": "eBxv1k6NbIqU"
      },
      "source": [
        ""
      ],
      "execution_count": null,
      "outputs": []
    }
  ]
}