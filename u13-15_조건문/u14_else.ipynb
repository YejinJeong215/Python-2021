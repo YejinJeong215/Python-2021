{
  "nbformat": 4,
  "nbformat_minor": 0,
  "metadata": {
    "colab": {
      "name": "u14_else.ipynb",
      "provenance": [],
      "collapsed_sections": []
    },
    "kernelspec": {
      "name": "python3",
      "display_name": "Python 3"
    },
    "language_info": {
      "name": "python"
    }
  },
  "cells": [
    {
      "cell_type": "markdown",
      "metadata": {
        "id": "6WwYd3kxlwll"
      },
      "source": [
        "# Unit 14. else"
      ]
    },
    {
      "cell_type": "code",
      "metadata": {
        "colab": {
          "base_uri": "https://localhost:8080/"
        },
        "id": "0DB_tgFFlQJ5",
        "outputId": "43557ceb-933a-41ce-b73b-6ec0f1b41ac7"
      },
      "source": [
        "x = 8\n",
        "if x == 10:\n",
        "  print('It is 10.')\n",
        "else:\n",
        "  print('It is not 10.')"
      ],
      "execution_count": 3,
      "outputs": [
        {
          "output_type": "stream",
          "text": [
            "It is not 10.\n"
          ],
          "name": "stdout"
        }
      ]
    },
    {
      "cell_type": "markdown",
      "metadata": {
        "id": "fcW0qtEAmt0S"
      },
      "source": [
        "### 3항 연산자\n",
        "- Java, JS : a = (조건) ? 참일 때의 값 : 거짓일 때의 값\n",
        "- 파이썬 : a = 참일 때의 값 if 조건 else 거짓일 때의 값"
      ]
    },
    {
      "cell_type": "code",
      "metadata": {
        "colab": {
          "base_uri": "https://localhost:8080/",
          "height": 36
        },
        "id": "eUOaYjmAmZop",
        "outputId": "8cf16ae9-f910-45e1-c132-55cff5f2f59f"
      },
      "source": [
        "x = 1\n",
        "if x % 2 == 0:\n",
        "  y = 'even'\n",
        "else:\n",
        "  y = 'odd'\n",
        "y"
      ],
      "execution_count": 4,
      "outputs": [
        {
          "output_type": "execute_result",
          "data": {
            "application/vnd.google.colaboratory.intrinsic+json": {
              "type": "string"
            },
            "text/plain": [
              "'odd'"
            ]
          },
          "metadata": {
            "tags": []
          },
          "execution_count": 4
        }
      ]
    },
    {
      "cell_type": "code",
      "metadata": {
        "colab": {
          "base_uri": "https://localhost:8080/",
          "height": 36
        },
        "id": "YgI6gc65nAPg",
        "outputId": "2a4484b5-3849-4907-ab17-2998bd568c62"
      },
      "source": [
        "y = 'even' if x % 2 == 0 else 'odd'   # 3항 연산자\n",
        "y"
      ],
      "execution_count": 5,
      "outputs": [
        {
          "output_type": "execute_result",
          "data": {
            "application/vnd.google.colaboratory.intrinsic+json": {
              "type": "string"
            },
            "text/plain": [
              "'odd'"
            ]
          },
          "metadata": {
            "tags": []
          },
          "execution_count": 5
        }
      ]
    },
    {
      "cell_type": "code",
      "metadata": {
        "colab": {
          "base_uri": "https://localhost:8080/"
        },
        "id": "b2QMXcBfnOQ9",
        "outputId": "22c5b63a-62b7-4d1c-b508-06683cc7bfc9"
      },
      "source": [
        "# 90점 이상이면 'A', 80 ~ 89: 'B', 70 ~ 79: 'C', 60 ~ 69: 'D', ~ 59: 'F'\n",
        "score = int(input('점수 입력> '))\n",
        "if score >= 90:\n",
        "  grade = 'A'\n",
        "else:\n",
        "  if score >= 80:\n",
        "    grade = 'B'\n",
        "  else:\n",
        "    if score >= 70:\n",
        "      grade = 'C'\n",
        "    else:\n",
        "      if score >= 60:\n",
        "        grade = 'D'\n",
        "      else:\n",
        "        grade = 'F'\n",
        "print(grade)"
      ],
      "execution_count": 9,
      "outputs": [
        {
          "output_type": "stream",
          "text": [
            "점수 입력> 80\n",
            "B\n"
          ],
          "name": "stdout"
        }
      ]
    },
    {
      "cell_type": "code",
      "metadata": {
        "colab": {
          "base_uri": "https://localhost:8080/",
          "height": 54
        },
        "id": "FsiKFgtSpbq_",
        "outputId": "cfa49b7b-6a8e-4638-c715-421a3b77bf56"
      },
      "source": [
        "score = int(input('점수 입력> '))\n",
        "grade = 'A' if score >= 90 else \\\n",
        "            'B' if score >= 80 else \\\n",
        "                'C' if score >= 70 else \\\n",
        "                    'D' if score >= 60 else 'F'\n",
        "grade"
      ],
      "execution_count": 12,
      "outputs": [
        {
          "output_type": "stream",
          "text": [
            "점수 입력> 30\n"
          ],
          "name": "stdout"
        },
        {
          "output_type": "execute_result",
          "data": {
            "application/vnd.google.colaboratory.intrinsic+json": {
              "type": "string"
            },
            "text/plain": [
              "'F'"
            ]
          },
          "metadata": {
            "tags": []
          },
          "execution_count": 12
        }
      ]
    },
    {
      "cell_type": "markdown",
      "metadata": {
        "id": "qWBiNiV9uhUW"
      },
      "source": [
        "### 조건식에서의 논리연산자"
      ]
    },
    {
      "cell_type": "code",
      "metadata": {
        "colab": {
          "base_uri": "https://localhost:8080/"
        },
        "id": "rC4RIJkEq3le",
        "outputId": "2773fa53-18a7-43b5-dd37-ae8c2c17c038"
      },
      "source": [
        "x = 5\n",
        "if x > 0 and x < 10:\n",
        "  print('10보다 작은 양의 정수입니다.')"
      ],
      "execution_count": 13,
      "outputs": [
        {
          "output_type": "stream",
          "text": [
            "10보다 작은 양의 정수입니다.\n"
          ],
          "name": "stdout"
        }
      ]
    },
    {
      "cell_type": "code",
      "metadata": {
        "colab": {
          "base_uri": "https://localhost:8080/"
        },
        "id": "irtdXE5HushE",
        "outputId": "50dab0a2-8713-4ffe-9aa8-9165b5a036b0"
      },
      "source": [
        "x = 5\n",
        "if 0 < x < 10:\n",
        "  print('10보다 작은 양의 정수입니다.')"
      ],
      "execution_count": 14,
      "outputs": [
        {
          "output_type": "stream",
          "text": [
            "10보다 작은 양의 정수입니다.\n"
          ],
          "name": "stdout"
        }
      ]
    },
    {
      "cell_type": "code",
      "metadata": {
        "id": "Veg4zRj7uxpG"
      },
      "source": [
        ""
      ],
      "execution_count": null,
      "outputs": []
    }
  ]
}