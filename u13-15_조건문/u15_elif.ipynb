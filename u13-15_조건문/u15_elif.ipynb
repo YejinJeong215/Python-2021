{
  "nbformat": 4,
  "nbformat_minor": 0,
  "metadata": {
    "colab": {
      "name": "u15_elif.ipynb",
      "provenance": [],
      "collapsed_sections": []
    },
    "kernelspec": {
      "name": "python3",
      "display_name": "Python 3"
    },
    "language_info": {
      "name": "python"
    }
  },
  "cells": [
    {
      "cell_type": "code",
      "metadata": {
        "id": "8KaaXNDujMjW"
      },
      "source": [
        ""
      ],
      "execution_count": null,
      "outputs": []
    },
    {
      "cell_type": "markdown",
      "metadata": {
        "id": "SZ8eL7bXn47U"
      },
      "source": [
        "# Unit 15. elif"
      ]
    },
    {
      "cell_type": "code",
      "metadata": {
        "colab": {
          "base_uri": "https://localhost:8080/"
        },
        "id": "BhoPyeAun8lu",
        "outputId": "33a5ce86-c992-406a-f8bb-54c24f87bad1"
      },
      "source": [
        "x = 20\n",
        "if x == 10:\n",
        "    print('It is 10.')\n",
        "elif x == 20:\n",
        "    print('It is 20.')\n",
        "else:\n",
        "    print('10, 20이 아닙니다.')"
      ],
      "execution_count": 1,
      "outputs": [
        {
          "output_type": "stream",
          "text": [
            "It is 20.\n"
          ],
          "name": "stdout"
        }
      ]
    },
    {
      "cell_type": "code",
      "metadata": {
        "colab": {
          "base_uri": "https://localhost:8080/"
        },
        "id": "l3jeV4QfomER",
        "outputId": "e6d4bf36-93dc-40e9-f74c-ab40d15f0dd1"
      },
      "source": [
        "x = 15\n",
        "if x == 10:\n",
        "    print('It is 10.')\n",
        "elif x == 20:\n",
        "    print('It is 20.')\n",
        "else:\n",
        "    print('10, 20이 아닙니다.')"
      ],
      "execution_count": 2,
      "outputs": [
        {
          "output_type": "stream",
          "text": [
            "10, 20이 아닙니다.\n"
          ],
          "name": "stdout"
        }
      ]
    },
    {
      "cell_type": "code",
      "metadata": {
        "colab": {
          "base_uri": "https://localhost:8080/"
        },
        "id": "0HPDB2SoothQ",
        "outputId": "01eb915f-b9de-4f06-e327-38faa33ffc38"
      },
      "source": [
        "# 숫자 - 입력, 3의 배수면 fizz, 5의 배수면 buzz, 15의 배수면 fizzbuzz\n",
        "num = int(input())\n",
        "if num % 3 == 0:\n",
        "    if num % 5 == 0:\n",
        "        print('fizzbuzz')\n",
        "    else:\n",
        "        print('fizz')\n",
        "elif num % 5 == 0:\n",
        "    if num % 3 == 0:\n",
        "        print('fizzbuzz')\n",
        "    else:\n",
        "        print('buzz')"
      ],
      "execution_count": 8,
      "outputs": [
        {
          "output_type": "stream",
          "text": [
            "15\n",
            "fizzbuzz\n"
          ],
          "name": "stdout"
        }
      ]
    },
    {
      "cell_type": "code",
      "metadata": {
        "colab": {
          "base_uri": "https://localhost:8080/"
        },
        "id": "OgekRLimpYaz",
        "outputId": "05e15b5a-3c6c-4b78-f106-c7268b9de018"
      },
      "source": [
        "# 선생님 풀이 (Tip: 가장 작은 범위의 조건부터)\n",
        "number = int(input())\n",
        "\n",
        "if number % 15 == 0:\n",
        "    print('fizzbuzz')\n",
        "elif number % 5 == 0:\n",
        "    print('buzz')\n",
        "elif number % 3 == 0:\n",
        "    print('fizz')\n",
        "else:\n",
        "    print(number)"
      ],
      "execution_count": 11,
      "outputs": [
        {
          "output_type": "stream",
          "text": [
            "15\n",
            "fizzbuzz\n"
          ],
          "name": "stdout"
        }
      ]
    },
    {
      "cell_type": "code",
      "metadata": {
        "colab": {
          "base_uri": "https://localhost:8080/"
        },
        "id": "KYRIW-2BqhLE",
        "outputId": "61a994ef-7f87-4146-fe93-5e649dfa04c4"
      },
      "source": [
        "'Fizz' * 0, 'Fizz' * 0, 'Buzz' * True"
      ],
      "execution_count": 14,
      "outputs": [
        {
          "output_type": "execute_result",
          "data": {
            "text/plain": [
              "('', '', 'Buzz')"
            ]
          },
          "metadata": {
            "tags": []
          },
          "execution_count": 14
        }
      ]
    },
    {
      "cell_type": "code",
      "metadata": {
        "colab": {
          "base_uri": "https://localhost:8080/"
        },
        "id": "tn4EQzyJrD3X",
        "outputId": "2fae6733-deac-4b55-c8c7-e2b54ff4edbd"
      },
      "source": [
        "# 선생님 풀이(2)\n",
        "print('Fizz' * (number % 3 == 0) + 'Buzz' * (number % 5 == 0) or number)"
      ],
      "execution_count": 15,
      "outputs": [
        {
          "output_type": "stream",
          "text": [
            "FizzBuzz\n"
          ],
          "name": "stdout"
        }
      ]
    }
  ]
}