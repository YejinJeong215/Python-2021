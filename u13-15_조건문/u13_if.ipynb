{
  "nbformat": 4,
  "nbformat_minor": 0,
  "metadata": {
    "colab": {
      "name": "u13_if.ipynb",
      "provenance": [],
      "collapsed_sections": []
    },
    "kernelspec": {
      "name": "python3",
      "display_name": "Python 3"
    },
    "language_info": {
      "name": "python"
    }
  },
  "cells": [
    {
      "cell_type": "markdown",
      "metadata": {
        "id": "-GByTaxbgsED"
      },
      "source": [
        "# Unit 13. if 조건문"
      ]
    },
    {
      "cell_type": "markdown",
      "metadata": {
        "id": "kIDxx6ScheRd"
      },
      "source": [
        "## 13.1 if 조건문"
      ]
    },
    {
      "cell_type": "code",
      "metadata": {
        "id": "ps2ax6GTgl6F"
      },
      "source": [
        "x = 9\n",
        "if x == 10:\n",
        "  print('It is 10.')"
      ],
      "execution_count": 1,
      "outputs": []
    },
    {
      "cell_type": "code",
      "metadata": {
        "colab": {
          "base_uri": "https://localhost:8080/",
          "height": 136
        },
        "id": "DTtL6Ez-hyEM",
        "outputId": "79b3da4b-0852-4a1a-a96b-3cc04dd4bf48"
      },
      "source": [
        "if x = 10:\n",
        "  print('It is 10.')"
      ],
      "execution_count": 2,
      "outputs": [
        {
          "output_type": "error",
          "ename": "SyntaxError",
          "evalue": "ignored",
          "traceback": [
            "\u001b[0;36m  File \u001b[0;32m\"<ipython-input-2-48b167cac0f6>\"\u001b[0;36m, line \u001b[0;32m1\u001b[0m\n\u001b[0;31m    if x = 10:\u001b[0m\n\u001b[0m         ^\u001b[0m\n\u001b[0;31mSyntaxError\u001b[0m\u001b[0;31m:\u001b[0m invalid syntax\n"
          ]
        }
      ]
    },
    {
      "cell_type": "code",
      "metadata": {
        "colab": {
          "base_uri": "https://localhost:8080/"
        },
        "id": "XsXY3OJqiJHw",
        "outputId": "006491ae-9fbb-43f1-88fe-20524e7b82f0"
      },
      "source": [
        "x = 9\n",
        "if x:                 # x가 0이 아니면 참\n",
        "  print('It is 10.')"
      ],
      "execution_count": 3,
      "outputs": [
        {
          "output_type": "stream",
          "text": [
            "It is 10.\n"
          ],
          "name": "stdout"
        }
      ]
    },
    {
      "cell_type": "markdown",
      "metadata": {
        "id": "MZ20VIzDiyRH"
      },
      "source": [
        "## 13.2 들여쓰기"
      ]
    },
    {
      "cell_type": "code",
      "metadata": {
        "colab": {
          "base_uri": "https://localhost:8080/"
        },
        "id": "Xn_7nSoLiSGK",
        "outputId": "7fb164be-daf8-4954-901b-678e070d472d"
      },
      "source": [
        "x = 10\n",
        "\n",
        "if x == 10:\n",
        "  print('x값은')\n",
        "  print('10입니다.')"
      ],
      "execution_count": 4,
      "outputs": [
        {
          "output_type": "stream",
          "text": [
            "x값은\n",
            "10입니다.\n"
          ],
          "name": "stdout"
        }
      ]
    },
    {
      "cell_type": "code",
      "metadata": {
        "colab": {
          "base_uri": "https://localhost:8080/",
          "height": 136
        },
        "id": "93odHeozjIWP",
        "outputId": "e798c855-f1b8-45ea-fc5e-b7ff197bd908"
      },
      "source": [
        "x = 10\n",
        "\n",
        "if x == 10:\n",
        "  print('x값은')\n",
        "    print('10입니다.')"
      ],
      "execution_count": 5,
      "outputs": [
        {
          "output_type": "error",
          "ename": "IndentationError",
          "evalue": "ignored",
          "traceback": [
            "\u001b[0;36m  File \u001b[0;32m\"<ipython-input-5-7af8e6d2ad93>\"\u001b[0;36m, line \u001b[0;32m5\u001b[0m\n\u001b[0;31m    print('10입니다.')\u001b[0m\n\u001b[0m    ^\u001b[0m\n\u001b[0;31mIndentationError\u001b[0m\u001b[0;31m:\u001b[0m unexpected indent\n"
          ]
        }
      ]
    },
    {
      "cell_type": "code",
      "metadata": {
        "colab": {
          "base_uri": "https://localhost:8080/"
        },
        "id": "0EDuKa1FjLOn",
        "outputId": "846203b4-d733-47d8-a01c-06782e2626cc"
      },
      "source": [
        "x = 10\n",
        "\n",
        "if x == 10:\n",
        "  print('x값은')\n",
        "  if x > 5:\n",
        "    print('10입니다.')"
      ],
      "execution_count": 6,
      "outputs": [
        {
          "output_type": "stream",
          "text": [
            "x값은\n",
            "10입니다.\n"
          ],
          "name": "stdout"
        }
      ]
    },
    {
      "cell_type": "code",
      "metadata": {
        "colab": {
          "base_uri": "https://localhost:8080/"
        },
        "id": "6UZZeEHWjUKr",
        "outputId": "6602f5d1-3d5d-4b8c-caa4-a9ab79408b26"
      },
      "source": [
        "x = 10\n",
        "\n",
        "if x == 10:\n",
        "  print('x값은')\n",
        "  print('10입니다.')\n",
        "print('언제나 출력됩니다.')"
      ],
      "execution_count": 7,
      "outputs": [
        {
          "output_type": "stream",
          "text": [
            "x값은\n",
            "10입니다.\n",
            "언제나 출력됩니다.\n"
          ],
          "name": "stdout"
        }
      ]
    },
    {
      "cell_type": "code",
      "metadata": {
        "colab": {
          "base_uri": "https://localhost:8080/"
        },
        "id": "_dyfeHatjbYE",
        "outputId": "6860b7eb-d499-444f-9283-22ff071cb60c"
      },
      "source": [
        "x = 9\n",
        "\n",
        "if x == 10:\n",
        "  print('x값은')\n",
        "  print('10입니다.')\n",
        "print('언제나 출력됩니다.')   # indent 된 것만 if 조건문에 해당됨"
      ],
      "execution_count": 8,
      "outputs": [
        {
          "output_type": "stream",
          "text": [
            "언제나 출력됩니다.\n"
          ],
          "name": "stdout"
        }
      ]
    },
    {
      "cell_type": "markdown",
      "metadata": {
        "id": "7rkovkZoj6te"
      },
      "source": [
        "## 13.3 중첩 if 조건문"
      ]
    },
    {
      "cell_type": "code",
      "metadata": {
        "colab": {
          "base_uri": "https://localhost:8080/"
        },
        "id": "xGfjWLehje0I",
        "outputId": "0f7643a2-86f8-48cb-b1b3-06cc580b66d5"
      },
      "source": [
        "x = 15\n",
        "if x > 10:\n",
        "  print('10보다 큰 숫자입니다.')\n",
        "  if x == 15:\n",
        "    print('15 입니다.')\n",
        "  if x == 20:\n",
        "    print('20 입니다.')"
      ],
      "execution_count": 9,
      "outputs": [
        {
          "output_type": "stream",
          "text": [
            "10보다 큰 숫자입니다.\n",
            "15 입니다.\n"
          ],
          "name": "stdout"
        }
      ]
    },
    {
      "cell_type": "code",
      "metadata": {
        "colab": {
          "base_uri": "https://localhost:8080/"
        },
        "id": "qK8jSoSCkcvP",
        "outputId": "961bbe66-c315-465c-ee61-443747350717"
      },
      "source": [
        "x = int(input('정수를 입력하세요> '))\n",
        "if x > 10:\n",
        "  print('10보다 큰 숫자입니다.')\n",
        "  if x == 15:\n",
        "    print('15 입니다.')\n",
        "  if x == 20:\n",
        "    print('20 입니다.')"
      ],
      "execution_count": 11,
      "outputs": [
        {
          "output_type": "stream",
          "text": [
            "정수를 입력하세요> 16\n",
            "10보다 큰 숫자입니다.\n"
          ],
          "name": "stdout"
        }
      ]
    },
    {
      "cell_type": "code",
      "metadata": {
        "id": "f070ApfIk9LA"
      },
      "source": [
        ""
      ],
      "execution_count": null,
      "outputs": []
    }
  ]
}