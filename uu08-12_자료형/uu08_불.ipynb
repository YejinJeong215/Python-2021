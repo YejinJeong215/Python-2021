{
  "nbformat": 4,
  "nbformat_minor": 0,
  "metadata": {
    "colab": {
      "name": "u08_불.ipynb",
      "provenance": [],
      "collapsed_sections": []
    },
    "kernelspec": {
      "name": "python3",
      "display_name": "Python 3"
    },
    "language_info": {
      "name": "python"
    }
  },
  "cells": [
    {
      "cell_type": "markdown",
      "metadata": {
        "id": "J3IrBQzXeebP"
      },
      "source": [
        "# Unit 8. 불과 비교/논리 연산자"
      ]
    },
    {
      "cell_type": "markdown",
      "metadata": {
        "id": "eHGPdW1jeic4"
      },
      "source": [
        "## 8.1 불(Bool)과 비교연산자"
      ]
    },
    {
      "cell_type": "code",
      "metadata": {
        "colab": {
          "base_uri": "https://localhost:8080/"
        },
        "id": "GF6aPMg7eh4c",
        "outputId": "a75bf639-289b-49a7-f769-11af445e293d"
      },
      "source": [
        "True, False"
      ],
      "execution_count": null,
      "outputs": [
        {
          "output_type": "execute_result",
          "data": {
            "text/plain": [
              "(True, False)"
            ]
          },
          "metadata": {
            "tags": []
          },
          "execution_count": 1
        }
      ]
    },
    {
      "cell_type": "code",
      "metadata": {
        "colab": {
          "base_uri": "https://localhost:8080/"
        },
        "id": "prFoIb1OebST",
        "outputId": "83bf849f-ca72-4823-fbfe-253edc76ba97"
      },
      "source": [
        "# >, >=, <, <=, ==, !=\n",
        "10 >= 5"
      ],
      "execution_count": null,
      "outputs": [
        {
          "output_type": "execute_result",
          "data": {
            "text/plain": [
              "True"
            ]
          },
          "metadata": {
            "tags": []
          },
          "execution_count": 2
        }
      ]
    },
    {
      "cell_type": "code",
      "metadata": {
        "colab": {
          "base_uri": "https://localhost:8080/"
        },
        "id": "PNxADOr8fyju",
        "outputId": "5af534f1-6a25-460d-cce6-40b59760d6b5"
      },
      "source": [
        "a = 10 != 5\n",
        "a"
      ],
      "execution_count": null,
      "outputs": [
        {
          "output_type": "execute_result",
          "data": {
            "text/plain": [
              "True"
            ]
          },
          "metadata": {
            "tags": []
          },
          "execution_count": 4
        }
      ]
    },
    {
      "cell_type": "code",
      "metadata": {
        "colab": {
          "base_uri": "https://localhost:8080/"
        },
        "id": "_NEw7kbjgDou",
        "outputId": "ecea86a6-c489-4275-a558-7beb982094c2"
      },
      "source": [
        "'Python' == 'python'"
      ],
      "execution_count": null,
      "outputs": [
        {
          "output_type": "execute_result",
          "data": {
            "text/plain": [
              "False"
            ]
          },
          "metadata": {
            "tags": []
          },
          "execution_count": 5
        }
      ]
    },
    {
      "cell_type": "markdown",
      "metadata": {
        "id": "jG6n8QBkgi52"
      },
      "source": [
        "## 8.2 논리연산자\n",
        "\n",
        "\n",
        "*   and, or, not\n",
        "\n"
      ]
    },
    {
      "cell_type": "code",
      "metadata": {
        "colab": {
          "base_uri": "https://localhost:8080/"
        },
        "id": "4AmJh32ygNQV",
        "outputId": "8d7fa0b7-3c97-4410-bc43-7c4b2719b781"
      },
      "source": [
        "not True and False or not False"
      ],
      "execution_count": null,
      "outputs": [
        {
          "output_type": "execute_result",
          "data": {
            "text/plain": [
              "True"
            ]
          },
          "metadata": {
            "tags": []
          },
          "execution_count": 7
        }
      ]
    },
    {
      "cell_type": "code",
      "metadata": {
        "colab": {
          "base_uri": "https://localhost:8080/"
        },
        "id": "QoIxbD_GkGvP",
        "outputId": "b20278b0-988a-47c1-9d31-54a5d2864394"
      },
      "source": [
        "((not True) and False) or (not False)"
      ],
      "execution_count": null,
      "outputs": [
        {
          "output_type": "execute_result",
          "data": {
            "text/plain": [
              "True"
            ]
          },
          "metadata": {
            "tags": []
          },
          "execution_count": 8
        }
      ]
    },
    {
      "cell_type": "code",
      "metadata": {
        "colab": {
          "base_uri": "https://localhost:8080/"
        },
        "id": "ML5JWZKHkPOS",
        "outputId": "27bc6e6f-acb3-4ef0-ab7e-fa57c59fd2e2"
      },
      "source": [
        "# x > 10, x < 5\n",
        "x = 6\n",
        "x > 10 or x < 5"
      ],
      "execution_count": null,
      "outputs": [
        {
          "output_type": "execute_result",
          "data": {
            "text/plain": [
              "False"
            ]
          },
          "metadata": {
            "tags": []
          },
          "execution_count": 9
        }
      ]
    },
    {
      "cell_type": "code",
      "metadata": {
        "colab": {
          "base_uri": "https://localhost:8080/"
        },
        "id": "Yo0cyjFFkjpL",
        "outputId": "bb880306-743a-42ff-d9d0-90151aed64b1"
      },
      "source": [
        "# 5 < x < 10\n",
        "x > 5 and x < 10"
      ],
      "execution_count": null,
      "outputs": [
        {
          "output_type": "execute_result",
          "data": {
            "text/plain": [
              "True"
            ]
          },
          "metadata": {
            "tags": []
          },
          "execution_count": 10
        }
      ]
    },
    {
      "cell_type": "code",
      "metadata": {
        "colab": {
          "base_uri": "https://localhost:8080/"
        },
        "id": "SWksZBbFksAi",
        "outputId": "81da537d-7faf-4884-9627-339e3ea01a4c"
      },
      "source": [
        "5 < x < 10  # 파이썬에서만 쓸 수 있는 표현"
      ],
      "execution_count": null,
      "outputs": [
        {
          "output_type": "execute_result",
          "data": {
            "text/plain": [
              "True"
            ]
          },
          "metadata": {
            "tags": []
          },
          "execution_count": 11
        }
      ]
    },
    {
      "cell_type": "markdown",
      "metadata": {
        "id": "6kcl7lLllF8v"
      },
      "source": [
        "### 정수, 실수, 문자열"
      ]
    },
    {
      "cell_type": "code",
      "metadata": {
        "colab": {
          "base_uri": "https://localhost:8080/"
        },
        "id": "jaUmqnD6kvdb",
        "outputId": "0e75b0db-6b0e-4228-e86e-3e02acc8ad29"
      },
      "source": [
        "bool(0), bool(1), bool(3)"
      ],
      "execution_count": null,
      "outputs": [
        {
          "output_type": "execute_result",
          "data": {
            "text/plain": [
              "(False, True, True)"
            ]
          },
          "metadata": {
            "tags": []
          },
          "execution_count": 15
        }
      ]
    },
    {
      "cell_type": "code",
      "metadata": {
        "colab": {
          "base_uri": "https://localhost:8080/"
        },
        "id": "GWtOivHtlQr0",
        "outputId": "3c06d4d8-3fe2-4fe7-8e08-ccdfc82b6b2e"
      },
      "source": [
        "bool(0.0), bool(0.1), bool(1.), bool(-4.)"
      ],
      "execution_count": null,
      "outputs": [
        {
          "output_type": "execute_result",
          "data": {
            "text/plain": [
              "(False, True, True, True)"
            ]
          },
          "metadata": {
            "tags": []
          },
          "execution_count": 16
        }
      ]
    },
    {
      "cell_type": "code",
      "metadata": {
        "colab": {
          "base_uri": "https://localhost:8080/"
        },
        "id": "zt-A86I3lSgL",
        "outputId": "925a2423-50d6-4adb-f9b8-8d70f8975644"
      },
      "source": [
        "bool(''), bool('s')"
      ],
      "execution_count": null,
      "outputs": [
        {
          "output_type": "execute_result",
          "data": {
            "text/plain": [
              "(False, True)"
            ]
          },
          "metadata": {
            "tags": []
          },
          "execution_count": 17
        }
      ]
    },
    {
      "cell_type": "code",
      "metadata": {
        "colab": {
          "base_uri": "https://localhost:8080/"
        },
        "id": "QPx27m95llz8",
        "outputId": "b9cafa0a-3c20-4c67-97b4-44f7a89e2fbb"
      },
      "source": [
        "if 4:\n",
        "  print('4 is True')"
      ],
      "execution_count": null,
      "outputs": [
        {
          "output_type": "stream",
          "text": [
            "4 is True\n"
          ],
          "name": "stdout"
        }
      ]
    },
    {
      "cell_type": "code",
      "metadata": {
        "colab": {
          "base_uri": "https://localhost:8080/"
        },
        "id": "hGxhO3pblx-O",
        "outputId": "c82f1da8-c9fe-4fc4-8f7f-b990288b552e"
      },
      "source": [
        "int(True), int(False)"
      ],
      "execution_count": null,
      "outputs": [
        {
          "output_type": "execute_result",
          "data": {
            "text/plain": [
              "(1, 0)"
            ]
          },
          "metadata": {
            "tags": []
          },
          "execution_count": 19
        }
      ]
    },
    {
      "cell_type": "markdown",
      "metadata": {
        "id": "1jjPQ0eBmp1X"
      },
      "source": [
        "### Short-circuit evaluation"
      ]
    },
    {
      "cell_type": "code",
      "metadata": {
        "colab": {
          "base_uri": "https://localhost:8080/"
        },
        "id": "bV2gdd1Xl-LG",
        "outputId": "ed3388ec-e8ae-44c2-9dca-67eb1b1a03fe"
      },
      "source": [
        "1 or 'python'"
      ],
      "execution_count": null,
      "outputs": [
        {
          "output_type": "execute_result",
          "data": {
            "text/plain": [
              "1"
            ]
          },
          "metadata": {
            "tags": []
          },
          "execution_count": 20
        }
      ]
    },
    {
      "cell_type": "code",
      "metadata": {
        "colab": {
          "base_uri": "https://localhost:8080/",
          "height": 36
        },
        "id": "kH40lnWgmQsU",
        "outputId": "5b07c235-1d15-45c8-8c11-9b7ce59c3d7e"
      },
      "source": [
        "0 or 'python'"
      ],
      "execution_count": null,
      "outputs": [
        {
          "output_type": "execute_result",
          "data": {
            "application/vnd.google.colaboratory.intrinsic+json": {
              "type": "string"
            },
            "text/plain": [
              "'python'"
            ]
          },
          "metadata": {
            "tags": []
          },
          "execution_count": 21
        }
      ]
    },
    {
      "cell_type": "code",
      "metadata": {
        "colab": {
          "base_uri": "https://localhost:8080/",
          "height": 36
        },
        "id": "2hpXaxlcmVQe",
        "outputId": "b4086461-9f3b-4abf-bc78-87f86ff71181"
      },
      "source": [
        "1 and 'python'"
      ],
      "execution_count": null,
      "outputs": [
        {
          "output_type": "execute_result",
          "data": {
            "application/vnd.google.colaboratory.intrinsic+json": {
              "type": "string"
            },
            "text/plain": [
              "'python'"
            ]
          },
          "metadata": {
            "tags": []
          },
          "execution_count": 22
        }
      ]
    },
    {
      "cell_type": "code",
      "metadata": {
        "colab": {
          "base_uri": "https://localhost:8080/"
        },
        "id": "02vCq19cmmWY",
        "outputId": "0985ad55-c7e8-438d-f071-3d59f9472411"
      },
      "source": [
        "0 and 'python'"
      ],
      "execution_count": null,
      "outputs": [
        {
          "output_type": "execute_result",
          "data": {
            "text/plain": [
              "0"
            ]
          },
          "metadata": {
            "tags": []
          },
          "execution_count": 23
        }
      ]
    },
    {
      "cell_type": "code",
      "metadata": {
        "colab": {
          "base_uri": "https://localhost:8080/"
        },
        "id": "PQYINietmoEz",
        "outputId": "c97e32f8-24c9-4056-c884-008ab12c4085"
      },
      "source": [
        "102 * 0.6 + 225"
      ],
      "execution_count": null,
      "outputs": [
        {
          "output_type": "execute_result",
          "data": {
            "text/plain": [
              "286.2"
            ]
          },
          "metadata": {
            "tags": []
          },
          "execution_count": 26
        }
      ]
    },
    {
      "cell_type": "code",
      "metadata": {
        "id": "NbElAZNVoApt"
      },
      "source": [
        ""
      ],
      "execution_count": null,
      "outputs": []
    },
    {
      "cell_type": "markdown",
      "metadata": {
        "id": "QTi56W9tv1gF"
      },
      "source": [
        "### 연습문제"
      ]
    },
    {
      "cell_type": "code",
      "metadata": {
        "colab": {
          "base_uri": "https://localhost:8080/"
        },
        "id": "um5035KEv3MD",
        "outputId": "06731bcf-96fd-4102-ce54-91ab2ea8c0df"
      },
      "source": [
        "korean = 92\n",
        "english = 47\n",
        "mathematics = 86\n",
        "science = 81\n",
        "\n",
        "print(korean >= 50 and english >= 50 and mathematics >= 50 and science >= 50)"
      ],
      "execution_count": 27,
      "outputs": [
        {
          "output_type": "stream",
          "text": [
            "False\n"
          ],
          "name": "stdout"
        }
      ]
    },
    {
      "cell_type": "markdown",
      "metadata": {
        "id": "fHaVuAAOwOTP"
      },
      "source": [
        "### 심사문제"
      ]
    },
    {
      "cell_type": "code",
      "metadata": {
        "colab": {
          "base_uri": "https://localhost:8080/"
        },
        "id": "o6YHjT-7wP37",
        "outputId": "0fad6afc-e748-4b06-d094-800574827293"
      },
      "source": [
        "a, b, c, d = map(int, input().split())\n",
        "print(a >= 90 and b > 80 and c > 85 and d >= 80)"
      ],
      "execution_count": 29,
      "outputs": [
        {
          "output_type": "stream",
          "text": [
            "90 80 85 80\n",
            "False\n"
          ],
          "name": "stdout"
        }
      ]
    }
  ]
}