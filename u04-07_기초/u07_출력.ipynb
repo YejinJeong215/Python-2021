{
  "nbformat": 4,
  "nbformat_minor": 0,
  "metadata": {
    "colab": {
      "name": "u07_출력.ipynb",
      "provenance": [],
      "collapsed_sections": []
    },
    "kernelspec": {
      "name": "python3",
      "display_name": "Python 3"
    },
    "language_info": {
      "name": "python"
    }
  },
  "cells": [
    {
      "cell_type": "markdown",
      "metadata": {
        "id": "zA6yQ4tOZuFW"
      },
      "source": [
        "# Unit 7. 출력"
      ]
    },
    {
      "cell_type": "markdown",
      "metadata": {
        "id": "uaZBxtg7acoc"
      },
      "source": [
        "## 7.1 여러개 값을 출력"
      ]
    },
    {
      "cell_type": "code",
      "metadata": {
        "colab": {
          "base_uri": "https://localhost:8080/"
        },
        "id": "9mMmdsLjZrLR",
        "outputId": "a51a931e-bdd4-40d8-ae82-f2b1fbfe1e95"
      },
      "source": [
        "a, b = map(int, input('정수 두개 입력> ').split())\n",
        "a\n",
        "b # 맨 마지막만 출력됨"
      ],
      "execution_count": null,
      "outputs": [
        {
          "output_type": "stream",
          "text": [
            "정수 두개 입력> 10 20\n"
          ],
          "name": "stdout"
        },
        {
          "output_type": "execute_result",
          "data": {
            "text/plain": [
              "20"
            ]
          },
          "metadata": {
            "tags": []
          },
          "execution_count": 1
        }
      ]
    },
    {
      "cell_type": "code",
      "metadata": {
        "colab": {
          "base_uri": "https://localhost:8080/"
        },
        "id": "IwuLda43aDtk",
        "outputId": "0be332bd-49a9-4ae4-8618-678f5d2a6fc8"
      },
      "source": [
        "a, b = map(int, input('정수 두개 입력> ').split())\n",
        "print(a)\n",
        "print(b)"
      ],
      "execution_count": null,
      "outputs": [
        {
          "output_type": "stream",
          "text": [
            "정수 두개 입력> 10 20\n",
            "10\n",
            "20\n"
          ],
          "name": "stdout"
        }
      ]
    },
    {
      "cell_type": "code",
      "metadata": {
        "colab": {
          "base_uri": "https://localhost:8080/"
        },
        "id": "Vf6y0lsBaVoP",
        "outputId": "da8476e8-453d-4968-ea1d-1b6185ce33fe"
      },
      "source": [
        "print(a, b)"
      ],
      "execution_count": null,
      "outputs": [
        {
          "output_type": "stream",
          "text": [
            "10 20\n"
          ],
          "name": "stdout"
        }
      ]
    },
    {
      "cell_type": "code",
      "metadata": {
        "colab": {
          "base_uri": "https://localhost:8080/"
        },
        "id": "AarA8JUxao51",
        "outputId": "e0e89bae-9bab-4d7d-a461-36fcee42fd3b"
      },
      "source": [
        "print(a, b, sep=', ')"
      ],
      "execution_count": null,
      "outputs": [
        {
          "output_type": "stream",
          "text": [
            "10, 20\n"
          ],
          "name": "stdout"
        }
      ]
    },
    {
      "cell_type": "markdown",
      "metadata": {
        "id": "6G81Uk5fbBJ7"
      },
      "source": [
        "## 7.2 줄바꿈 활용"
      ]
    },
    {
      "cell_type": "code",
      "metadata": {
        "colab": {
          "base_uri": "https://localhost:8080/"
        },
        "id": "lBiUATBSayF9",
        "outputId": "b39128c2-2bdf-4481-a01e-a82a90cfb8da"
      },
      "source": [
        "print(a, b, sep='\\n')"
      ],
      "execution_count": null,
      "outputs": [
        {
          "output_type": "stream",
          "text": [
            "10\n",
            "20\n"
          ],
          "name": "stdout"
        }
      ]
    },
    {
      "cell_type": "code",
      "metadata": {
        "colab": {
          "base_uri": "https://localhost:8080/"
        },
        "id": "MxJ4jkuXbP4w",
        "outputId": "43528f2f-0c01-4859-f3f6-61a61886b369"
      },
      "source": [
        "print(a, b, sep='/\\\\')  # \\는 특별한 의미가 있는 기호여서 \\를 나타내고 싶으면 \\\\ 입력해야 한다."
      ],
      "execution_count": null,
      "outputs": [
        {
          "output_type": "stream",
          "text": [
            "10/\\20\n"
          ],
          "name": "stdout"
        }
      ]
    },
    {
      "cell_type": "code",
      "metadata": {
        "id": "cNdTPxJ5bk-0"
      },
      "source": [
        "# with open('\\\\workspace\\\\01pythonprogramming') # file name에서 \\사용하려면 \\\\입력해야 한다."
      ],
      "execution_count": null,
      "outputs": []
    },
    {
      "cell_type": "code",
      "metadata": {
        "id": "cT1APw_3cP6w"
      },
      "source": [
        "# with open('/workspace/01pythonpragramming') # 그래서 그냥 / 사용해라"
      ],
      "execution_count": null,
      "outputs": []
    },
    {
      "cell_type": "code",
      "metadata": {
        "colab": {
          "base_uri": "https://localhost:8080/"
        },
        "id": "7x4ptIG0cY6a",
        "outputId": "4d24d7cc-0cd6-4821-a346-ff25cf8d2d67"
      },
      "source": [
        "print(a, end=' ') # end가 default로는 \\n 이다.\n",
        "print(b)"
      ],
      "execution_count": null,
      "outputs": [
        {
          "output_type": "stream",
          "text": [
            "10 20\n"
          ],
          "name": "stdout"
        }
      ]
    },
    {
      "cell_type": "code",
      "metadata": {
        "colab": {
          "base_uri": "https://localhost:8080/"
        },
        "id": "X3n2VqFtcfbE",
        "outputId": "e7c76cc0-a421-4df2-e817-f04cc49ede8a"
      },
      "source": [
        "for i in range(5):\n",
        "  print(i, end=' ')"
      ],
      "execution_count": null,
      "outputs": [
        {
          "output_type": "stream",
          "text": [
            "0 1 2 3 4 "
          ],
          "name": "stdout"
        }
      ]
    },
    {
      "cell_type": "markdown",
      "metadata": {
        "id": "n1f6U2lctgTK"
      },
      "source": [
        "### 퀴즈"
      ]
    },
    {
      "cell_type": "code",
      "metadata": {
        "id": "5CbYNIftcze_",
        "colab": {
          "base_uri": "https://localhost:8080/"
        },
        "outputId": "22553723-8acf-4c67-c619-7f4842a50718"
      },
      "source": [
        "print('Hello', '\\n', 'Python', sep='')"
      ],
      "execution_count": null,
      "outputs": [
        {
          "output_type": "stream",
          "text": [
            "Hello\n",
            "Python\n"
          ],
          "name": "stdout"
        }
      ]
    },
    {
      "cell_type": "markdown",
      "metadata": {
        "id": "4HBSHo0StiWj"
      },
      "source": [
        "### 연습문제"
      ]
    },
    {
      "cell_type": "code",
      "metadata": {
        "colab": {
          "base_uri": "https://localhost:8080/"
        },
        "id": "Tt-LChmHtkjh",
        "outputId": "35b28b31-697e-4b05-f6d1-2bbcef383642"
      },
      "source": [
        "year = 2000\n",
        "month = 10\n",
        "day = 27\n",
        "hour = 11\n",
        "minute = 43\n",
        "second = 59\n",
        " \n",
        "print(year, month, day, sep='/', end=' ')\n",
        "print(hour, minute, second, sep=':')"
      ],
      "execution_count": null,
      "outputs": [
        {
          "output_type": "stream",
          "text": [
            "2000/10/27 11:43:59\n"
          ],
          "name": "stdout"
        }
      ]
    },
    {
      "cell_type": "markdown",
      "metadata": {
        "id": "-WnNApbjt21B"
      },
      "source": [
        "### 심사문제"
      ]
    },
    {
      "cell_type": "code",
      "metadata": {
        "colab": {
          "base_uri": "https://localhost:8080/"
        },
        "id": "sarwURD_t2cC",
        "outputId": "da535337-3442-4d42-f7c8-10dd86796ba8"
      },
      "source": [
        "year, month, day, hour, minute, second = input().split()\n",
        "print(year, month, day, sep='-', end='T')\n",
        "print(hour, minute, second, sep=':')"
      ],
      "execution_count": null,
      "outputs": [
        {
          "output_type": "stream",
          "text": [
            "2017 10 27 11 43 59\n",
            "2017-10-27T11:43:59\n"
          ],
          "name": "stdout"
        }
      ]
    }
  ]
}