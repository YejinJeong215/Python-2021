{
  "nbformat": 4,
  "nbformat_minor": 0,
  "metadata": {
    "colab": {
      "name": "u06_변수와입력.ipynb",
      "provenance": [],
      "collapsed_sections": []
    },
    "kernelspec": {
      "name": "python3",
      "display_name": "Python 3"
    },
    "language_info": {
      "name": "python"
    }
  },
  "cells": [
    {
      "cell_type": "markdown",
      "metadata": {
        "id": "gWZc65uqLsnk"
      },
      "source": [
        "# Unit 6. 변수와 입력"
      ]
    },
    {
      "cell_type": "markdown",
      "metadata": {
        "id": "22cAUHodLvx0"
      },
      "source": [
        "## 6.1 변수"
      ]
    },
    {
      "cell_type": "code",
      "metadata": {
        "colab": {
          "base_uri": "https://localhost:8080/"
        },
        "id": "5feaY-KeLrrJ",
        "outputId": "899f3762-3afa-49bf-95df-7cf0dc2b29f5"
      },
      "source": [
        "x = 10\n",
        "x"
      ],
      "execution_count": null,
      "outputs": [
        {
          "output_type": "execute_result",
          "data": {
            "text/plain": [
              "10"
            ]
          },
          "metadata": {
            "tags": []
          },
          "execution_count": 1
        }
      ]
    },
    {
      "cell_type": "code",
      "metadata": {
        "colab": {
          "base_uri": "https://localhost:8080/",
          "height": 36
        },
        "id": "NyUtq9jjNidR",
        "outputId": "44b4154d-c5a8-46f4-d94f-f4dbf49f8391"
      },
      "source": [
        "s = 'Hello, world!'\n",
        "s"
      ],
      "execution_count": null,
      "outputs": [
        {
          "output_type": "execute_result",
          "data": {
            "application/vnd.google.colaboratory.intrinsic+json": {
              "type": "string"
            },
            "text/plain": [
              "'Hello, world!'"
            ]
          },
          "metadata": {
            "tags": []
          },
          "execution_count": 2
        }
      ]
    },
    {
      "cell_type": "code",
      "metadata": {
        "colab": {
          "base_uri": "https://localhost:8080/"
        },
        "id": "wYp2aqABNkTk",
        "outputId": "d593fb96-7d62-4291-f3a0-20942b06c6b5"
      },
      "source": [
        "type(x), type(s)"
      ],
      "execution_count": null,
      "outputs": [
        {
          "output_type": "execute_result",
          "data": {
            "text/plain": [
              "(int, str)"
            ]
          },
          "metadata": {
            "tags": []
          },
          "execution_count": 3
        }
      ]
    },
    {
      "cell_type": "code",
      "metadata": {
        "colab": {
          "base_uri": "https://localhost:8080/"
        },
        "id": "IrAB527sNmZN",
        "outputId": "795bd1f1-9dd5-4a58-8eba-fad1fe2b56b7"
      },
      "source": [
        "x, y, z = 10, 20, 30\n",
        "x, y, z"
      ],
      "execution_count": null,
      "outputs": [
        {
          "output_type": "execute_result",
          "data": {
            "text/plain": [
              "(10, 20, 30)"
            ]
          },
          "metadata": {
            "tags": []
          },
          "execution_count": 4
        }
      ]
    },
    {
      "cell_type": "code",
      "metadata": {
        "colab": {
          "base_uri": "https://localhost:8080/"
        },
        "id": "dHPJdza6NpdD",
        "outputId": "14982505-8510-4c42-9a80-f3f9edefe94f"
      },
      "source": [
        "x = y = z = 10\n",
        "x, y, z"
      ],
      "execution_count": null,
      "outputs": [
        {
          "output_type": "execute_result",
          "data": {
            "text/plain": [
              "(10, 10, 10)"
            ]
          },
          "metadata": {
            "tags": []
          },
          "execution_count": 5
        }
      ]
    },
    {
      "cell_type": "code",
      "metadata": {
        "colab": {
          "base_uri": "https://localhost:8080/",
          "height": 190
        },
        "id": "OkieVIC1Nru8",
        "outputId": "b0356009-acfc-4a81-c628-c59116d44ec8"
      },
      "source": [
        "del z\n",
        "print(z)"
      ],
      "execution_count": null,
      "outputs": [
        {
          "output_type": "error",
          "ename": "NameError",
          "evalue": "ignored",
          "traceback": [
            "\u001b[0;31m---------------------------------------------------------------------------\u001b[0m",
            "\u001b[0;31mNameError\u001b[0m                                 Traceback (most recent call last)",
            "\u001b[0;32m<ipython-input-6-8f47a1d0824e>\u001b[0m in \u001b[0;36m<module>\u001b[0;34m()\u001b[0m\n\u001b[1;32m      1\u001b[0m \u001b[0;32mdel\u001b[0m \u001b[0mz\u001b[0m\u001b[0;34m\u001b[0m\u001b[0;34m\u001b[0m\u001b[0m\n\u001b[0;32m----> 2\u001b[0;31m \u001b[0mprint\u001b[0m\u001b[0;34m(\u001b[0m\u001b[0mz\u001b[0m\u001b[0;34m)\u001b[0m\u001b[0;34m\u001b[0m\u001b[0;34m\u001b[0m\u001b[0m\n\u001b[0m",
            "\u001b[0;31mNameError\u001b[0m: name 'z' is not defined"
          ]
        }
      ]
    },
    {
      "cell_type": "code",
      "metadata": {
        "colab": {
          "base_uri": "https://localhost:8080/"
        },
        "id": "zUgeBlJvOGaA",
        "outputId": "b3848b92-537d-4b05-e300-f7c1cadf67fe"
      },
      "source": [
        "# Null\n",
        "x = None\n",
        "print(x)"
      ],
      "execution_count": null,
      "outputs": [
        {
          "output_type": "stream",
          "text": [
            "None\n"
          ],
          "name": "stdout"
        }
      ]
    },
    {
      "cell_type": "code",
      "metadata": {
        "id": "cmTwbCWaOPiK"
      },
      "source": [
        "x"
      ],
      "execution_count": null,
      "outputs": []
    },
    {
      "cell_type": "markdown",
      "metadata": {
        "id": "S0eiACD4OyTH"
      },
      "source": [
        "## 6.2 변수로 계산"
      ]
    },
    {
      "cell_type": "code",
      "metadata": {
        "colab": {
          "base_uri": "https://localhost:8080/"
        },
        "id": "knBYJOm2OQHv",
        "outputId": "758d8d63-a4c7-4244-90a8-81ac3a03012d"
      },
      "source": [
        "a = 10\n",
        "a = a + 10\n",
        "a"
      ],
      "execution_count": null,
      "outputs": [
        {
          "output_type": "execute_result",
          "data": {
            "text/plain": [
              "20"
            ]
          },
          "metadata": {
            "tags": []
          },
          "execution_count": 10
        }
      ]
    },
    {
      "cell_type": "code",
      "metadata": {
        "colab": {
          "base_uri": "https://localhost:8080/"
        },
        "id": "1vZCKsKcO0PM",
        "outputId": "2ffe1e9a-ddbf-43a4-bc32-30db927594ab"
      },
      "source": [
        "a = 10\n",
        "a += 10\n",
        "a"
      ],
      "execution_count": null,
      "outputs": [
        {
          "output_type": "execute_result",
          "data": {
            "text/plain": [
              "20"
            ]
          },
          "metadata": {
            "tags": []
          },
          "execution_count": 11
        }
      ]
    },
    {
      "cell_type": "code",
      "metadata": {
        "colab": {
          "base_uri": "https://localhost:8080/"
        },
        "id": "xm97dfXnO7Nv",
        "outputId": "24b7ce2e-67e4-4fb1-ea6a-38d9e149e0cd"
      },
      "source": [
        "sum, prod = 0, 1\n",
        "for i in range(1,11):\n",
        "  sum += i\n",
        "  prod *= i\n",
        "sum, prod"
      ],
      "execution_count": null,
      "outputs": [
        {
          "output_type": "execute_result",
          "data": {
            "text/plain": [
              "(55, 3628800)"
            ]
          },
          "metadata": {
            "tags": []
          },
          "execution_count": 12
        }
      ]
    },
    {
      "cell_type": "code",
      "metadata": {
        "colab": {
          "base_uri": "https://localhost:8080/"
        },
        "id": "Fx-RdRlPPdK9",
        "outputId": "9affb8c9-d40f-449c-bfac-9ee60b00e5cb"
      },
      "source": [
        "-prod"
      ],
      "execution_count": null,
      "outputs": [
        {
          "output_type": "execute_result",
          "data": {
            "text/plain": [
              "-3628800"
            ]
          },
          "metadata": {
            "tags": []
          },
          "execution_count": 13
        }
      ]
    },
    {
      "cell_type": "markdown",
      "metadata": {
        "id": "Z5e7qZkPQIeo"
      },
      "source": [
        "## 6.3 입력(input)"
      ]
    },
    {
      "cell_type": "code",
      "metadata": {
        "colab": {
          "base_uri": "https://localhost:8080/"
        },
        "id": "64vbIRlIQAkX",
        "outputId": "9314d768-dd4c-4973-e1b0-ff3b95c72d7d"
      },
      "source": [
        "x = input()"
      ],
      "execution_count": null,
      "outputs": [
        {
          "output_type": "stream",
          "text": [
            "Hello, world!\n"
          ],
          "name": "stdout"
        }
      ]
    },
    {
      "cell_type": "code",
      "metadata": {
        "colab": {
          "base_uri": "https://localhost:8080/",
          "height": 36
        },
        "id": "kStw9KVzQWRf",
        "outputId": "64b20420-c438-4b4e-a7ca-86bd435f31dc"
      },
      "source": [
        "x"
      ],
      "execution_count": null,
      "outputs": [
        {
          "output_type": "execute_result",
          "data": {
            "application/vnd.google.colaboratory.intrinsic+json": {
              "type": "string"
            },
            "text/plain": [
              "'Hello, world!'"
            ]
          },
          "metadata": {
            "tags": []
          },
          "execution_count": 16
        }
      ]
    },
    {
      "cell_type": "code",
      "metadata": {
        "colab": {
          "base_uri": "https://localhost:8080/"
        },
        "id": "rTvCm9RoQjnh",
        "outputId": "f67397ba-c34e-420d-903a-5b1397a03d74"
      },
      "source": [
        "x = input('1에서 10 사이의 정수값> ')  # prompt"
      ],
      "execution_count": null,
      "outputs": [
        {
          "output_type": "stream",
          "text": [
            "1에서 10 사이의 정수값> 7\n"
          ],
          "name": "stdout"
        }
      ]
    },
    {
      "cell_type": "code",
      "metadata": {
        "colab": {
          "base_uri": "https://localhost:8080/",
          "height": 36
        },
        "id": "AfILhXdDQtYu",
        "outputId": "a2ec2485-60f1-4eb3-d3ae-bae5be8ff2c1"
      },
      "source": [
        "x"
      ],
      "execution_count": null,
      "outputs": [
        {
          "output_type": "execute_result",
          "data": {
            "application/vnd.google.colaboratory.intrinsic+json": {
              "type": "string"
            },
            "text/plain": [
              "'7'"
            ]
          },
          "metadata": {
            "tags": []
          },
          "execution_count": 21
        }
      ]
    },
    {
      "cell_type": "code",
      "metadata": {
        "colab": {
          "base_uri": "https://localhost:8080/",
          "height": 72
        },
        "id": "83hZFluwQ5Xi",
        "outputId": "a82950bd-4f29-40f7-a049-a3c89ce97879"
      },
      "source": [
        "# 입력한 두 정수의 합\n",
        "a = input('첫번째 정수> ')\n",
        "b = input('두번째 정수> ')\n",
        "a + b"
      ],
      "execution_count": null,
      "outputs": [
        {
          "output_type": "stream",
          "text": [
            "첫번째 정수> 101\n",
            "두번째 정수> 303\n"
          ],
          "name": "stdout"
        },
        {
          "output_type": "execute_result",
          "data": {
            "application/vnd.google.colaboratory.intrinsic+json": {
              "type": "string"
            },
            "text/plain": [
              "'101303'"
            ]
          },
          "metadata": {
            "tags": []
          },
          "execution_count": 22
        }
      ]
    },
    {
      "cell_type": "code",
      "metadata": {
        "id": "1pNbv-WkRTEr"
      },
      "source": [
        "# input으로 받아들이면 type이 문자열이 된다."
      ],
      "execution_count": null,
      "outputs": []
    },
    {
      "cell_type": "code",
      "metadata": {
        "colab": {
          "base_uri": "https://localhost:8080/"
        },
        "id": "bpy1c4rjRp7n",
        "outputId": "6eea3124-1f05-44ed-bb73-920b4f9d1d53"
      },
      "source": [
        "# 입력한 두 정수의 합\n",
        "a = input('첫번째 정수> ')\n",
        "b = input('두번째 정수> ')\n",
        "int(a) + int(b)"
      ],
      "execution_count": null,
      "outputs": [
        {
          "output_type": "stream",
          "text": [
            "첫번째 정수> 101\n",
            "두번째 정수> 303\n"
          ],
          "name": "stdout"
        },
        {
          "output_type": "execute_result",
          "data": {
            "text/plain": [
              "404"
            ]
          },
          "metadata": {
            "tags": []
          },
          "execution_count": 23
        }
      ]
    },
    {
      "cell_type": "code",
      "metadata": {
        "colab": {
          "base_uri": "https://localhost:8080/"
        },
        "id": "EIzYMBhLRuw6",
        "outputId": "276fc564-cca1-451f-b5ce-e62167bc5019"
      },
      "source": [
        "# 입력한 두 정수의 합\n",
        "a = int(input('첫번째 정수> '))\n",
        "b = int(input('두번째 정수> '))\n",
        "a + b"
      ],
      "execution_count": null,
      "outputs": [
        {
          "output_type": "stream",
          "text": [
            "첫번째 정수> 101\n",
            "두번째 정수> 303\n"
          ],
          "name": "stdout"
        },
        {
          "output_type": "execute_result",
          "data": {
            "text/plain": [
              "404"
            ]
          },
          "metadata": {
            "tags": []
          },
          "execution_count": 24
        }
      ]
    },
    {
      "cell_type": "markdown",
      "metadata": {
        "id": "s5qIDDYzSOsY"
      },
      "source": [
        "## 6.4 입력값 두개"
      ]
    },
    {
      "cell_type": "code",
      "metadata": {
        "colab": {
          "base_uri": "https://localhost:8080/"
        },
        "id": "g9-5eaeHSOTD",
        "outputId": "6aca0a7e-06e8-43a0-d623-40d6a44ef300"
      },
      "source": [
        "s.split()"
      ],
      "execution_count": null,
      "outputs": [
        {
          "output_type": "execute_result",
          "data": {
            "text/plain": [
              "['Hello,', 'world!']"
            ]
          },
          "metadata": {
            "tags": []
          },
          "execution_count": 26
        }
      ]
    },
    {
      "cell_type": "code",
      "metadata": {
        "colab": {
          "base_uri": "https://localhost:8080/"
        },
        "id": "ZUS_gkXtR4gx",
        "outputId": "8a23078f-f86a-45fc-ae56-3f3f307b3d91"
      },
      "source": [
        "a, b = s.split()\n",
        "a, b"
      ],
      "execution_count": null,
      "outputs": [
        {
          "output_type": "execute_result",
          "data": {
            "text/plain": [
              "('Hello,', 'world!')"
            ]
          },
          "metadata": {
            "tags": []
          },
          "execution_count": 27
        }
      ]
    },
    {
      "cell_type": "code",
      "metadata": {
        "colab": {
          "base_uri": "https://localhost:8080/"
        },
        "id": "6cBY6mN9Ssnt",
        "outputId": "d76ce57d-de28-4a84-c121-b8e4569833f5"
      },
      "source": [
        "a, b, c = 'A quick brown'.split()\n",
        "a, b, c"
      ],
      "execution_count": null,
      "outputs": [
        {
          "output_type": "execute_result",
          "data": {
            "text/plain": [
              "('A', 'quick', 'brown')"
            ]
          },
          "metadata": {
            "tags": []
          },
          "execution_count": 28
        }
      ]
    },
    {
      "cell_type": "code",
      "metadata": {
        "colab": {
          "base_uri": "https://localhost:8080/"
        },
        "id": "J3S9-CNmS-OV",
        "outputId": "1c48a02f-2dff-40de-c37d-55a78a9acef0"
      },
      "source": [
        "a, b = input('정수 두개 입력> ').split()"
      ],
      "execution_count": null,
      "outputs": [
        {
          "output_type": "stream",
          "text": [
            "정수 두개 입력> 10 20\n"
          ],
          "name": "stdout"
        }
      ]
    },
    {
      "cell_type": "code",
      "metadata": {
        "colab": {
          "base_uri": "https://localhost:8080/"
        },
        "id": "iA9FjoLGV2RK",
        "outputId": "ffbf26d2-1625-4df0-d202-2e5490a31167"
      },
      "source": [
        "a = int(a)\n",
        "b = int(b)\n",
        "a + b"
      ],
      "execution_count": null,
      "outputs": [
        {
          "output_type": "execute_result",
          "data": {
            "text/plain": [
              "30"
            ]
          },
          "metadata": {
            "tags": []
          },
          "execution_count": 31
        }
      ]
    },
    {
      "cell_type": "code",
      "metadata": {
        "colab": {
          "base_uri": "https://localhost:8080/"
        },
        "id": "XnV7lEo5V9ei",
        "outputId": "a1dd88f1-d7b1-4747-9500-147cee430083"
      },
      "source": [
        "a, b = input('정수 두개 입력, comma로 구분하세요.> ').split(',')"
      ],
      "execution_count": null,
      "outputs": [
        {
          "output_type": "stream",
          "text": [
            "정수 두개 입력, comma로 구분하세요.> 10,20\n"
          ],
          "name": "stdout"
        }
      ]
    },
    {
      "cell_type": "code",
      "metadata": {
        "colab": {
          "base_uri": "https://localhost:8080/"
        },
        "id": "KgQ4Ij9hWNB1",
        "outputId": "70ec7839-c855-4744-9fa3-6227202bae88"
      },
      "source": [
        "a = int(a)\n",
        "b = int(b)\n",
        "a + b"
      ],
      "execution_count": null,
      "outputs": [
        {
          "output_type": "execute_result",
          "data": {
            "text/plain": [
              "30"
            ]
          },
          "metadata": {
            "tags": []
          },
          "execution_count": 33
        }
      ]
    },
    {
      "cell_type": "markdown",
      "metadata": {
        "id": "C7PBgy2DWYaz"
      },
      "source": [
        "### map 활용"
      ]
    },
    {
      "cell_type": "code",
      "metadata": {
        "colab": {
          "base_uri": "https://localhost:8080/"
        },
        "id": "Tp0Y4ltdWPt2",
        "outputId": "d150b746-275d-48bc-b8fe-debf3b69d2e9"
      },
      "source": [
        "a, b = map(int, [10.2, 11.4])\n",
        "a, b"
      ],
      "execution_count": null,
      "outputs": [
        {
          "output_type": "execute_result",
          "data": {
            "text/plain": [
              "(10, 11)"
            ]
          },
          "metadata": {
            "tags": []
          },
          "execution_count": 35
        }
      ]
    },
    {
      "cell_type": "code",
      "metadata": {
        "colab": {
          "base_uri": "https://localhost:8080/"
        },
        "id": "oLfXM0oOXADT",
        "outputId": "27fff822-c9a1-4e6c-d66f-249acb752c68"
      },
      "source": [
        "a, b = map(int, input('정수 두개 입력> ').split())\n",
        "a + b"
      ],
      "execution_count": null,
      "outputs": [
        {
          "output_type": "stream",
          "text": [
            "정수 두개 입력> 10 20\n"
          ],
          "name": "stdout"
        },
        {
          "output_type": "execute_result",
          "data": {
            "text/plain": [
              "30"
            ]
          },
          "metadata": {
            "tags": []
          },
          "execution_count": 36
        }
      ]
    },
    {
      "cell_type": "code",
      "metadata": {
        "colab": {
          "base_uri": "https://localhost:8080/"
        },
        "id": "vJgFCackXVMX",
        "outputId": "0d5b061f-156f-42d3-bd74-916af1b0df93"
      },
      "source": [
        "import math\n",
        "a, b = map(math.sqrt, [1, 4])\n",
        "a, b"
      ],
      "execution_count": null,
      "outputs": [
        {
          "output_type": "execute_result",
          "data": {
            "text/plain": [
              "(1.0, 2.0)"
            ]
          },
          "metadata": {
            "tags": []
          },
          "execution_count": 37
        }
      ]
    },
    {
      "cell_type": "markdown",
      "metadata": {
        "id": "lvTTy5ixpTE5"
      },
      "source": [
        "### 연습문제"
      ]
    },
    {
      "cell_type": "code",
      "metadata": {
        "colab": {
          "base_uri": "https://localhost:8080/"
        },
        "id": "c8mZg9SlX0n4",
        "outputId": "22c34c3d-f164-49e6-a5c1-3143efde8ac4"
      },
      "source": [
        "a, b, c = map(int, input().split())\n",
        "print(a + b + c)"
      ],
      "execution_count": null,
      "outputs": [
        {
          "output_type": "stream",
          "text": [
            "-10 20 30\n",
            "40\n"
          ],
          "name": "stdout"
        }
      ]
    },
    {
      "cell_type": "markdown",
      "metadata": {
        "id": "OROvPgD2qoB1"
      },
      "source": [
        "### 심사문제"
      ]
    },
    {
      "cell_type": "code",
      "metadata": {
        "colab": {
          "base_uri": "https://localhost:8080/"
        },
        "id": "_tvsdL5LqmfZ",
        "outputId": "8cf2cf29-fb27-4b67-a92c-f5d33d4aaee5"
      },
      "source": [
        "a = 50\n",
        "b = 100 \n",
        "c = None\n",
        "print(a)\n",
        "print(b)\n",
        "print(c)"
      ],
      "execution_count": null,
      "outputs": [
        {
          "output_type": "stream",
          "text": [
            "50\n",
            "100\n",
            "None\n"
          ],
          "name": "stdout"
        }
      ]
    },
    {
      "cell_type": "code",
      "metadata": {
        "colab": {
          "base_uri": "https://localhost:8080/"
        },
        "id": "DvvUO95BrLR1",
        "outputId": "c0eecc2d-a96a-406e-c843-5bbc644f67bd"
      },
      "source": [
        "a, b, c, d = map(int, input().split())\n",
        "average = int((a + b + c + d) / 4)\n",
        "print(average)"
      ],
      "execution_count": null,
      "outputs": [
        {
          "output_type": "stream",
          "text": [
            "32 53 22 95\n",
            "50\n"
          ],
          "name": "stdout"
        }
      ]
    },
    {
      "cell_type": "code",
      "metadata": {
        "colab": {
          "base_uri": "https://localhost:8080/"
        },
        "id": "crVg8v4Hr34o",
        "outputId": "4b59b1fe-d062-404a-b72e-4ec54608147f"
      },
      "source": [
        "a, b, c, d = map(int, input().split())\n",
        "print((a + b + c + d) // 4)"
      ],
      "execution_count": null,
      "outputs": [
        {
          "output_type": "stream",
          "text": [
            "32 53 22 95\n",
            "50\n"
          ],
          "name": "stdout"
        }
      ]
    }
  ]
}