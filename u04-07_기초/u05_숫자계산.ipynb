{
  "nbformat": 4,
  "nbformat_minor": 0,
  "metadata": {
    "colab": {
      "name": "u05_숫자계산.ipynb",
      "provenance": [],
      "collapsed_sections": []
    },
    "kernelspec": {
      "name": "python3",
      "display_name": "Python 3"
    },
    "language_info": {
      "name": "python"
    }
  },
  "cells": [
    {
      "cell_type": "markdown",
      "metadata": {
        "id": "uA3r2V2gpDoV"
      },
      "source": [
        "# Unit 5. 숫자 계산하기"
      ]
    },
    {
      "cell_type": "markdown",
      "metadata": {
        "id": "qhPM90diqlet"
      },
      "source": [
        "## 5.1 정수"
      ]
    },
    {
      "cell_type": "code",
      "metadata": {
        "colab": {
          "base_uri": "https://localhost:8080/"
        },
        "id": "cUH7R-dDo3ce",
        "outputId": "a18a06f1-5dcc-4b64-9931-cddcc2c465f9"
      },
      "source": [
        "# 사칙 연산, +, -, *, /, %, //\n",
        "5 / 2"
      ],
      "execution_count": 1,
      "outputs": [
        {
          "output_type": "execute_result",
          "data": {
            "text/plain": [
              "2.5"
            ]
          },
          "metadata": {
            "tags": []
          },
          "execution_count": 1
        }
      ]
    },
    {
      "cell_type": "code",
      "metadata": {
        "colab": {
          "base_uri": "https://localhost:8080/"
        },
        "id": "MvbrXj_Fq8jV",
        "outputId": "2dc6db10-08c2-43cc-8266-c561d77bdd23"
      },
      "source": [
        "# % - modulo, 나머지\n",
        "5 % 2"
      ],
      "execution_count": 2,
      "outputs": [
        {
          "output_type": "execute_result",
          "data": {
            "text/plain": [
              "1"
            ]
          },
          "metadata": {
            "tags": []
          },
          "execution_count": 2
        }
      ]
    },
    {
      "cell_type": "code",
      "metadata": {
        "colab": {
          "base_uri": "https://localhost:8080/"
        },
        "id": "H4tSuM-5tk4K",
        "outputId": "fc903d0d-b0a6-4e63-ee41-1c25a3028be7"
      },
      "source": [
        "# // - 몫\n",
        "5 // 2"
      ],
      "execution_count": 3,
      "outputs": [
        {
          "output_type": "execute_result",
          "data": {
            "text/plain": [
              "2"
            ]
          },
          "metadata": {
            "tags": []
          },
          "execution_count": 3
        }
      ]
    },
    {
      "cell_type": "code",
      "metadata": {
        "colab": {
          "base_uri": "https://localhost:8080/"
        },
        "id": "Bl8Zi7HZtqFy",
        "outputId": "801e86f5-a360-4c16-bdbe-310595b35384"
      },
      "source": [
        "# 3의 배수 - 어떤 숫자를 3으로 모듈로 연산을 했을 때 결과거 0\n",
        "6 % 3"
      ],
      "execution_count": 6,
      "outputs": [
        {
          "output_type": "execute_result",
          "data": {
            "text/plain": [
              "0"
            ]
          },
          "metadata": {
            "tags": []
          },
          "execution_count": 6
        }
      ]
    },
    {
      "cell_type": "code",
      "metadata": {
        "colab": {
          "base_uri": "https://localhost:8080/"
        },
        "id": "br0DCK7kuhKY",
        "outputId": "7d71e15f-bb95-484c-ffee-c82f52cbd81f"
      },
      "source": [
        "# 거듭 제곱\n",
        "2 ** 10"
      ],
      "execution_count": 7,
      "outputs": [
        {
          "output_type": "execute_result",
          "data": {
            "text/plain": [
              "1024"
            ]
          },
          "metadata": {
            "tags": []
          },
          "execution_count": 7
        }
      ]
    },
    {
      "cell_type": "markdown",
      "metadata": {
        "id": "YTQURiI4u1xY"
      },
      "source": [
        "### 값을 정수로 변환"
      ]
    },
    {
      "cell_type": "code",
      "metadata": {
        "colab": {
          "base_uri": "https://localhost:8080/"
        },
        "id": "pfNsIKy6urNK",
        "outputId": "5278ab04-e3ff-4381-a8cb-bbd38ebf876d"
      },
      "source": [
        "int(3.14)"
      ],
      "execution_count": 8,
      "outputs": [
        {
          "output_type": "execute_result",
          "data": {
            "text/plain": [
              "3"
            ]
          },
          "metadata": {
            "tags": []
          },
          "execution_count": 8
        }
      ]
    },
    {
      "cell_type": "code",
      "metadata": {
        "colab": {
          "base_uri": "https://localhost:8080/"
        },
        "id": "DJom3OjGvIDF",
        "outputId": "2d0e4fad-158b-4c49-f84e-8c6c84eae915"
      },
      "source": [
        "int(5 / 2)"
      ],
      "execution_count": 9,
      "outputs": [
        {
          "output_type": "execute_result",
          "data": {
            "text/plain": [
              "2"
            ]
          },
          "metadata": {
            "tags": []
          },
          "execution_count": 9
        }
      ]
    },
    {
      "cell_type": "code",
      "metadata": {
        "colab": {
          "base_uri": "https://localhost:8080/"
        },
        "id": "XGLZseygvSLs",
        "outputId": "b11b3692-6533-4f1c-dcba-165d70c65c3c"
      },
      "source": [
        "# 'single quote', \"double quote\"\n",
        "# number=green / string=red\n",
        "int('55')"
      ],
      "execution_count": 11,
      "outputs": [
        {
          "output_type": "execute_result",
          "data": {
            "text/plain": [
              "55"
            ]
          },
          "metadata": {
            "tags": []
          },
          "execution_count": 11
        }
      ]
    },
    {
      "cell_type": "code",
      "metadata": {
        "colab": {
          "base_uri": "https://localhost:8080/"
        },
        "id": "MZugy8ktvuKu",
        "outputId": "373ca5d6-c1a5-4cd1-9104-76f596e7068b"
      },
      "source": [
        "string = '55'\n",
        "value = int(string)\n",
        "string, value"
      ],
      "execution_count": 12,
      "outputs": [
        {
          "output_type": "execute_result",
          "data": {
            "text/plain": [
              "('55', 55)"
            ]
          },
          "metadata": {
            "tags": []
          },
          "execution_count": 12
        }
      ]
    },
    {
      "cell_type": "code",
      "metadata": {
        "colab": {
          "base_uri": "https://localhost:8080/"
        },
        "id": "lhBn8QX9wEAy",
        "outputId": "d16a4adf-c722-4c16-f37f-53ac8e4c842c"
      },
      "source": [
        "type(string), type(value), type(3.14)"
      ],
      "execution_count": 14,
      "outputs": [
        {
          "output_type": "execute_result",
          "data": {
            "text/plain": [
              "(str, int, float)"
            ]
          },
          "metadata": {
            "tags": []
          },
          "execution_count": 14
        }
      ]
    },
    {
      "cell_type": "code",
      "metadata": {
        "colab": {
          "base_uri": "https://localhost:8080/"
        },
        "id": "JZoSc0HxwVye",
        "outputId": "d043e395-5ac2-4e31-ca97-481bd996449f"
      },
      "source": [
        "# 몫과 나머지를 동시에 계산 divmod(5, 2)\n",
        "q, r = 5 // 2, 5 % 2\n",
        "q, r"
      ],
      "execution_count": 19,
      "outputs": [
        {
          "output_type": "execute_result",
          "data": {
            "text/plain": [
              "(2, 1)"
            ]
          },
          "metadata": {
            "tags": []
          },
          "execution_count": 19
        }
      ]
    },
    {
      "cell_type": "code",
      "metadata": {
        "colab": {
          "base_uri": "https://localhost:8080/"
        },
        "id": "EKRdiel9xtb2",
        "outputId": "352120a3-c845-4f2a-de1d-f9d2e789ba18"
      },
      "source": [
        "divmod(5, 2)"
      ],
      "execution_count": 20,
      "outputs": [
        {
          "output_type": "execute_result",
          "data": {
            "text/plain": [
              "(2, 1)"
            ]
          },
          "metadata": {
            "tags": []
          },
          "execution_count": 20
        }
      ]
    },
    {
      "cell_type": "markdown",
      "metadata": {
        "id": "uSJYz88Jx6RX"
      },
      "source": [
        "### 진수"
      ]
    },
    {
      "cell_type": "code",
      "metadata": {
        "colab": {
          "base_uri": "https://localhost:8080/"
        },
        "id": "wuRv3ACVx8X9",
        "outputId": "24bee7aa-3ad5-4f78-f3dd-ac942dc3eb45"
      },
      "source": [
        "# 2진수, 8진수, 16진수\n",
        "0b101, 0o5, 0x5"
      ],
      "execution_count": 21,
      "outputs": [
        {
          "output_type": "execute_result",
          "data": {
            "text/plain": [
              "(5, 5, 5)"
            ]
          },
          "metadata": {
            "tags": []
          },
          "execution_count": 21
        }
      ]
    },
    {
      "cell_type": "code",
      "metadata": {
        "colab": {
          "base_uri": "https://localhost:8080/"
        },
        "id": "IGn83LnEyLcw",
        "outputId": "b5860e48-af6c-4fa3-a5df-f9ec8d97493c"
      },
      "source": [
        "0xa6"
      ],
      "execution_count": 22,
      "outputs": [
        {
          "output_type": "execute_result",
          "data": {
            "text/plain": [
              "166"
            ]
          },
          "metadata": {
            "tags": []
          },
          "execution_count": 22
        }
      ]
    },
    {
      "cell_type": "code",
      "metadata": {
        "id": "qPiXwbwvy_y9"
      },
      "source": [
        "# red - 0xff0000, green - 0x00ff00, blue - ox0000ff\n",
        "#   #ffffff, #888888, #444444"
      ],
      "execution_count": null,
      "outputs": []
    },
    {
      "cell_type": "markdown",
      "metadata": {
        "id": "jCm46aTJzpIY"
      },
      "source": [
        "## 5.2 실수"
      ]
    },
    {
      "cell_type": "code",
      "metadata": {
        "colab": {
          "base_uri": "https://localhost:8080/"
        },
        "id": "ph7St8YBzrk4",
        "outputId": "8778ee46-9fa8-47f9-ada2-0b6f696cf087"
      },
      "source": [
        "3.5 + 2.1"
      ],
      "execution_count": 23,
      "outputs": [
        {
          "output_type": "execute_result",
          "data": {
            "text/plain": [
              "5.6"
            ]
          },
          "metadata": {
            "tags": []
          },
          "execution_count": 23
        }
      ]
    },
    {
      "cell_type": "code",
      "metadata": {
        "colab": {
          "base_uri": "https://localhost:8080/"
        },
        "id": "DRREdW6Yzytw",
        "outputId": "015cafb9-8b0c-4cf3-e689-1d9a88db28d2"
      },
      "source": [
        "4.3  -2.7"
      ],
      "execution_count": 24,
      "outputs": [
        {
          "output_type": "execute_result",
          "data": {
            "text/plain": [
              "1.5999999999999996"
            ]
          },
          "metadata": {
            "tags": []
          },
          "execution_count": 24
        }
      ]
    },
    {
      "cell_type": "code",
      "metadata": {
        "colab": {
          "base_uri": "https://localhost:8080/"
        },
        "id": "C1BKOwoDzz7h",
        "outputId": "e9b5b91b-8ee3-4306-e48e-2a06b8ff5243"
      },
      "source": [
        "4.3 - 2.7 == 1.6"
      ],
      "execution_count": 25,
      "outputs": [
        {
          "output_type": "execute_result",
          "data": {
            "text/plain": [
              "False"
            ]
          },
          "metadata": {
            "tags": []
          },
          "execution_count": 25
        }
      ]
    },
    {
      "cell_type": "code",
      "metadata": {
        "colab": {
          "base_uri": "https://localhost:8080/"
        },
        "id": "TL66EwV92QPQ",
        "outputId": "71311308-6c83-4071-dd75-ef02cc8b7706"
      },
      "source": [
        "import numpy as np\n",
        "np.abs((4.3-2.7)-1.6) < 1e-10"
      ],
      "execution_count": 29,
      "outputs": [
        {
          "output_type": "execute_result",
          "data": {
            "text/plain": [
              "True"
            ]
          },
          "metadata": {
            "tags": []
          },
          "execution_count": 29
        }
      ]
    },
    {
      "cell_type": "code",
      "metadata": {
        "colab": {
          "base_uri": "https://localhost:8080/"
        },
        "id": "BnHByize2Cb0",
        "outputId": "23c050c7-cf59-43f4-9ef8-4c31fe63e903"
      },
      "source": [
        "4.2 + 5"
      ],
      "execution_count": 26,
      "outputs": [
        {
          "output_type": "execute_result",
          "data": {
            "text/plain": [
              "9.2"
            ]
          },
          "metadata": {
            "tags": []
          },
          "execution_count": 26
        }
      ]
    },
    {
      "cell_type": "code",
      "metadata": {
        "colab": {
          "base_uri": "https://localhost:8080/"
        },
        "id": "hfpZCxkc2KH_",
        "outputId": "fe884adf-2439-428b-cc04-e830e8ecd518"
      },
      "source": [
        "4.2 + float('5')"
      ],
      "execution_count": 27,
      "outputs": [
        {
          "output_type": "execute_result",
          "data": {
            "text/plain": [
              "9.2"
            ]
          },
          "metadata": {
            "tags": []
          },
          "execution_count": 27
        }
      ]
    },
    {
      "cell_type": "code",
      "metadata": {
        "colab": {
          "base_uri": "https://localhost:8080/"
        },
        "id": "nhEPY3mb2MTR",
        "outputId": "af54d68c-ba06-49cc-bfd4-dd27a9b64f61"
      },
      "source": [
        "4.2 + int('5')"
      ],
      "execution_count": 28,
      "outputs": [
        {
          "output_type": "execute_result",
          "data": {
            "text/plain": [
              "9.2"
            ]
          },
          "metadata": {
            "tags": []
          },
          "execution_count": 28
        }
      ]
    },
    {
      "cell_type": "code",
      "metadata": {
        "id": "nzERPOzU2OU8"
      },
      "source": [
        ""
      ],
      "execution_count": null,
      "outputs": []
    }
  ]
}