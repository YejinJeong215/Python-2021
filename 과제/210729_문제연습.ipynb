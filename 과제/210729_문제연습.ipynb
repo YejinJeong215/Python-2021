{
  "nbformat": 4,
  "nbformat_minor": 0,
  "metadata": {
    "colab": {
      "name": "210729_문제연습.ipynb",
      "provenance": [],
      "collapsed_sections": []
    },
    "kernelspec": {
      "name": "python3",
      "display_name": "Python 3"
    },
    "language_info": {
      "name": "python"
    }
  },
  "cells": [
    {
      "cell_type": "markdown",
      "metadata": {
        "id": "aIiUylQFQ-If"
      },
      "source": [
        "### a + b + c = 1000 (a < b < c), a*a + b*b =c*c 인 피타고라스 수는?\n"
      ]
    },
    {
      "cell_type": "code",
      "metadata": {
        "colab": {
          "base_uri": "https://localhost:8080/"
        },
        "id": "DyFqLHw7CFhH",
        "outputId": "ac79f41e-5508-4378-dad8-938d04d5ba38"
      },
      "source": [
        "for a in range(1000):\n",
        "    for b in range(1000):\n",
        "        for c in range(1000):\n",
        "            if a + b + c == 1000:\n",
        "                if a*a + b*b == c*c:\n",
        "                    print(a, b, c)"
      ],
      "execution_count": 7,
      "outputs": [
        {
          "output_type": "stream",
          "text": [
            "0 500 500\n",
            "200 375 425\n",
            "375 200 425\n",
            "500 0 500\n"
          ],
          "name": "stdout"
        }
      ]
    },
    {
      "cell_type": "code",
      "metadata": {
        "colab": {
          "base_uri": "https://localhost:8080/"
        },
        "id": "sv1IEUhUJ1QD",
        "outputId": "9f415fd7-45a4-42ac-a208-fe1b8fea4fa1"
      },
      "source": [
        "for a in range(1000):\n",
        "    for b in range(a+1,1000-3*a-2):\n",
        "        for c in range(b+1,1000-a-b+1):\n",
        "            if a + b + c == 1000:\n",
        "                if a*a + b*b == c*c:\n",
        "                    print(a, b, c)"
      ],
      "execution_count": 17,
      "outputs": [
        {
          "output_type": "stream",
          "text": [
            "200 375 425\n"
          ],
          "name": "stdout"
        }
      ]
    },
    {
      "cell_type": "markdown",
      "metadata": {
        "id": "0Ui6KWl8NqgS"
      },
      "source": [
        "### 표준 입력으로 나이(만 나이)가 입력됩니다(입력 값은 7 이상 입력됨). 교통카드 시스템에서 시내버스 요금은 다음과 같으며 각 나이에 맞게 요금을 차감한 뒤 잔액이 출력되게 만드세요(if, elif 사용). 현재 교통카드에는 9,000원이 들어있습니다.\n",
        "\n",
        "- 어린이(초등학생, 만 7세 이상 12세 이하): 650원\n",
        "- 청소년(중∙고등학생, 만 13세 이상 18세 이하): 1,050원\n",
        "- 어른(일반, 만 19세 이상): 1,250원"
      ]
    },
    {
      "cell_type": "code",
      "metadata": {
        "colab": {
          "base_uri": "https://localhost:8080/"
        },
        "id": "o2QMi7QdMOeS",
        "outputId": "72ab01cf-9be9-4160-c904-f346779fcbb9"
      },
      "source": [
        "# 17\n",
        "\n",
        "age = int(input())\n",
        "balance = 9000    # 교통카드 잔액\n",
        "\n",
        "if 7 <= age <= 12:\n",
        "    balance -= 650\n",
        "elif 13 <= age <= 18:\n",
        "    balance -= 1050\n",
        "elif age >= 19:\n",
        "    balance -= 1250\n",
        "\n",
        "print(balance)"
      ],
      "execution_count": 12,
      "outputs": [
        {
          "output_type": "stream",
          "text": [
            "17\n",
            "7950\n"
          ],
          "name": "stdout"
        }
      ]
    },
    {
      "cell_type": "code",
      "metadata": {
        "colab": {
          "base_uri": "https://localhost:8080/"
        },
        "id": "KL_q0R_HOyF2",
        "outputId": "8f2a22cb-ee3b-489e-d72b-0350f8698d9c"
      },
      "source": [
        "# 12\n",
        "\n",
        "age = int(input())\n",
        "balance = 9000    # 교통카드 잔액\n",
        "\n",
        "if 7 <= age <= 12:\n",
        "    balance -= 650\n",
        "elif 13 <= age <= 18:\n",
        "    balance -= 1050\n",
        "elif age >= 19:\n",
        "    balance -= 1250\n",
        "\n",
        "print(balance)"
      ],
      "execution_count": 11,
      "outputs": [
        {
          "output_type": "stream",
          "text": [
            "12\n",
            "8350\n"
          ],
          "name": "stdout"
        }
      ]
    },
    {
      "cell_type": "markdown",
      "metadata": {
        "id": "wQ9FrJ1nQ3Cp"
      },
      "source": [
        "### 본인의 생일을 1998 12 15 과 같이 년 월 일로 입력받아 오늘 날짜의 만 나이를 구하는 프로그램을 작성하시오.\n"
      ]
    },
    {
      "cell_type": "code",
      "metadata": {
        "colab": {
          "base_uri": "https://localhost:8080/"
        },
        "id": "COre_wJCO7br",
        "outputId": "12755f22-5e1f-48ed-f2a7-4840eeb44e1f"
      },
      "source": [
        "from datetime import date\n",
        "today = date.today()\n",
        "\n",
        "year, month, day = map(int, input().split())\n",
        "\n",
        "if (month < today.month) or (month == today.month and day < today.day):\n",
        "    print(today.year-year)\n",
        "else:\n",
        "    print(today.year-year-1)"
      ],
      "execution_count": 30,
      "outputs": [
        {
          "output_type": "stream",
          "text": [
            "1998 12 15\n",
            "22\n"
          ],
          "name": "stdout"
        }
      ]
    },
    {
      "cell_type": "code",
      "metadata": {
        "id": "66qRAORGSr7X"
      },
      "source": [
        "year, month, day = map(int, input().split())\n",
        "\n",
        "if (month < 7) or (month == 7 and day < 29):\n",
        "    print(2021-year)\n",
        "else:\n",
        "    print(2020-year)"
      ],
      "execution_count": null,
      "outputs": []
    },
    {
      "cell_type": "markdown",
      "metadata": {
        "id": "xd9N7I0xU2ur"
      },
      "source": [
        "### 디지털 시계에 하루동안(00:00-23:59) 3이 표시되는 시간을 초로 환산하면 총 몇 초(second) 일까요?- 디지털 시계는 하루동안 다음과 같이 시:분(00:00~23:59)으로 표시됨.\n"
      ]
    },
    {
      "cell_type": "code",
      "metadata": {
        "colab": {
          "base_uri": "https://localhost:8080/"
        },
        "id": "qw9RY1AcUPnB",
        "outputId": "658f4d69-ce59-49f2-fcc7-63042a5bf667"
      },
      "source": [
        "t = [0, 0, 0, 0]\n",
        "count = 0\n",
        "\n",
        "for t[0] in range(3):\n",
        "    for t[1] in range(10):\n",
        "        if t[0] == 2 and t[1] == 4:\n",
        "            break\n",
        "        elif t[1] == 3:\n",
        "            count += 60\n",
        "        else:\n",
        "            for t[2] in range(6):\n",
        "                for t[3] in range(10):\n",
        "                    if t[2] == 3:\n",
        "                        count += 1\n",
        "                    elif t[3] == 3:\n",
        "                        count += 1\n",
        "\n",
        "sec_count = count*60\n",
        "print(sec_count)"
      ],
      "execution_count": 45,
      "outputs": [
        {
          "output_type": "stream",
          "text": [
            "29700\n"
          ],
          "name": "stdout"
        }
      ]
    },
    {
      "cell_type": "code",
      "metadata": {
        "id": "SvQFT1dBZGLb"
      },
      "source": [
        ""
      ],
      "execution_count": null,
      "outputs": []
    }
  ]
}