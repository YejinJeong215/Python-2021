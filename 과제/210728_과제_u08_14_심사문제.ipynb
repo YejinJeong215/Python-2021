{
  "nbformat": 4,
  "nbformat_minor": 0,
  "metadata": {
    "colab": {
      "name": "6회차_정예진.ipynb",
      "provenance": [],
      "collapsed_sections": []
    },
    "kernelspec": {
      "name": "python3",
      "display_name": "Python 3"
    },
    "language_info": {
      "name": "python"
    }
  },
  "cells": [
    {
      "cell_type": "markdown",
      "metadata": {
        "id": "cG5Rps2pLHAt"
      },
      "source": [
        "# Unit 8. 불과 비교, 논리 연산자 알아보기"
      ]
    },
    {
      "cell_type": "markdown",
      "metadata": {
        "id": "e_EgcVQqwJ-G"
      },
      "source": [
        "## 8.5 심사문제 : 합격 여부 출력하기"
      ]
    },
    {
      "cell_type": "code",
      "metadata": {
        "colab": {
          "base_uri": "https://localhost:8080/"
        },
        "id": "Xqoxm-mUwCxq",
        "outputId": "44f4b948-0f78-4860-bdb7-a526341e2971"
      },
      "source": [
        "a, b, c, d = map(int, input().split())\n",
        "print(a >= 90 and b > 80 and c > 85 and d >= 80)"
      ],
      "execution_count": 57,
      "outputs": [
        {
          "output_type": "stream",
          "text": [
            "90 80 85 80\n",
            "False\n"
          ],
          "name": "stdout"
        }
      ]
    },
    {
      "cell_type": "markdown",
      "metadata": {
        "id": "61V1Ac-CLViC"
      },
      "source": [
        "# Unit 9. 문자열 사용하기"
      ]
    },
    {
      "cell_type": "markdown",
      "metadata": {
        "id": "wT4B3NriwU8v"
      },
      "source": [
        "## 9.4 심사문제 : 여러 줄로 된 문자열 사용하기"
      ]
    },
    {
      "cell_type": "code",
      "metadata": {
        "colab": {
          "base_uri": "https://localhost:8080/"
        },
        "id": "ewRnn0sIwa2V",
        "outputId": "d0d660f0-c093-402d-b3b6-d9603848b418"
      },
      "source": [
        "s = ''''Python' is a \"programming language\"\n",
        "that lets you work quickly\n",
        "and\n",
        "integrate systems more effectively.'''\n",
        "\n",
        "print(s)"
      ],
      "execution_count": 58,
      "outputs": [
        {
          "output_type": "stream",
          "text": [
            "'Python' is a \"programming language\"\n",
            "that lets you work quickly\n",
            "and\n",
            "integrate systems more effectively.\n"
          ],
          "name": "stdout"
        }
      ]
    },
    {
      "cell_type": "markdown",
      "metadata": {
        "id": "Q9x1G11fLbce"
      },
      "source": [
        "# Unit 10. 리스트와 튜플 사용하기"
      ]
    },
    {
      "cell_type": "markdown",
      "metadata": {
        "id": "9kkwJH5txiEJ"
      },
      "source": [
        "## 10.5 심사문제 : range로 튜플 만들기"
      ]
    },
    {
      "cell_type": "code",
      "metadata": {
        "colab": {
          "base_uri": "https://localhost:8080/"
        },
        "id": "SA-Poothw9gs",
        "outputId": "97348b46-9cee-4905-9408-b6449b4fab1b"
      },
      "source": [
        "i = int(input())\n",
        "t = tuple(range(-10, 10, i))\n",
        "print(t)"
      ],
      "execution_count": 59,
      "outputs": [
        {
          "output_type": "stream",
          "text": [
            "3\n",
            "(-10, -7, -4, -1, 2, 5, 8)\n"
          ],
          "name": "stdout"
        }
      ]
    },
    {
      "cell_type": "markdown",
      "metadata": {
        "id": "f4qMs4kTLh2J"
      },
      "source": [
        "# Unit 11. 시퀀스 자료형 활용하기"
      ]
    },
    {
      "cell_type": "markdown",
      "metadata": {
        "id": "csF6fKD21KCn"
      },
      "source": [
        "## 11.8 심사문제 : 리스트의 마지막 부분 삭제하기"
      ]
    },
    {
      "cell_type": "code",
      "metadata": {
        "colab": {
          "base_uri": "https://localhost:8080/"
        },
        "id": "SohNRKO61Jrs",
        "outputId": "7c0de111-821f-4809-b080-804060ee66a0"
      },
      "source": [
        "x = input().split()\n",
        "del x[-5:]\n",
        "print(tuple(x))"
      ],
      "execution_count": 60,
      "outputs": [
        {
          "output_type": "stream",
          "text": [
            "oven bat pony total leak wreck curl crop space navy loss knee\n",
            "('oven', 'bat', 'pony', 'total', 'leak', 'wreck', 'curl')\n"
          ],
          "name": "stdout"
        }
      ]
    },
    {
      "cell_type": "markdown",
      "metadata": {
        "id": "QVJPW_FD3gPL"
      },
      "source": [
        "## 11.9 심사문제 : 문자열에서 인덱스가 홀수인 문자와 짝수인 문자 연결하기"
      ]
    },
    {
      "cell_type": "code",
      "metadata": {
        "colab": {
          "base_uri": "https://localhost:8080/"
        },
        "id": "Cu-tkY4N2-2c",
        "outputId": "bbf88289-82cf-4250-f52a-c870e50c8d64"
      },
      "source": [
        "s1 = input()\n",
        "s2 = input()\n",
        "print(s1[1::2] + s2[::2])"
      ],
      "execution_count": 61,
      "outputs": [
        {
          "output_type": "stream",
          "text": [
            "apple\n",
            "strawberry\n",
            "plsrwer\n"
          ],
          "name": "stdout"
        }
      ]
    },
    {
      "cell_type": "markdown",
      "metadata": {
        "id": "uUZSvBuzLuml"
      },
      "source": [
        "# Unit 12. 딕셔너리 사용하기"
      ]
    },
    {
      "cell_type": "markdown",
      "metadata": {
        "id": "bkmm7HEY6XGv"
      },
      "source": [
        "## 12.5 심사문제 : 딕셔너리에 게임 캐릭터 능력치 저장하기"
      ]
    },
    {
      "cell_type": "code",
      "metadata": {
        "colab": {
          "base_uri": "https://localhost:8080/"
        },
        "id": "ShoJrUVX5hVF",
        "outputId": "14fe47da-a09a-4b7b-ced6-6d76efa6be7f"
      },
      "source": [
        "key = input().split()\n",
        "value = map(float, input().split())\n",
        "dic = dict(zip(key, value))\n",
        "print(dic)"
      ],
      "execution_count": 62,
      "outputs": [
        {
          "output_type": "stream",
          "text": [
            "health mana melee attack_speed magic_resistance\n",
            "573.6 308.8 600 0.625 35.7\n",
            "{'health': 573.6, 'mana': 308.8, 'melee': 600.0, 'attack_speed': 0.625, 'magic_resistance': 35.7}\n"
          ],
          "name": "stdout"
        }
      ]
    },
    {
      "cell_type": "markdown",
      "metadata": {
        "id": "Dx_aa_9zL1-d"
      },
      "source": [
        "# Unit 13. if 조건물으로 특정 조건일 때 코드 실행하기"
      ]
    },
    {
      "cell_type": "markdown",
      "metadata": {
        "id": "BU09XqPMBsbx"
      },
      "source": [
        "## 13.7 심사문제 : 온라인 할인 쿠폰 시스템 만들기"
      ]
    },
    {
      "cell_type": "code",
      "metadata": {
        "colab": {
          "base_uri": "https://localhost:8080/"
        },
        "id": "nkx2rFNY8_db",
        "outputId": "3e60da49-b098-460d-c6b1-73c0dc797223"
      },
      "source": [
        "price = int(input())\n",
        "coupon_name = input()\n",
        "if coupon_name == 'Cash3000':\n",
        "    final_price = price - 3000\n",
        "if coupon_name == 'Cash5000':\n",
        "    final_price = price - 5000\n",
        "print(final_price)"
      ],
      "execution_count": 63,
      "outputs": [
        {
          "output_type": "stream",
          "text": [
            "72000\n",
            "Cash5000\n",
            "67000\n"
          ],
          "name": "stdout"
        }
      ]
    },
    {
      "cell_type": "markdown",
      "metadata": {
        "id": "B56BFrG3L_z9"
      },
      "source": [
        "# Unit 14. else를 사용하여 두 방향으로 분기하기"
      ]
    },
    {
      "cell_type": "markdown",
      "metadata": {
        "id": "-jxei-x5FXDL"
      },
      "source": [
        "## 14.7 심사문제 : 합격 여부 판단하기"
      ]
    },
    {
      "cell_type": "code",
      "metadata": {
        "colab": {
          "base_uri": "https://localhost:8080/"
        },
        "id": "k4DXG-QRFXav",
        "outputId": "c8714836-017c-4e82-be4c-179034b1f0b2"
      },
      "source": [
        "s1, s2, s3, s4 = map(int, input().split())\n",
        "if 0 <= s1 <= 100 and 0 <= s2 <= 100 and 0 <= s3 <= 100 and 0 <= s4 <= 100:\n",
        "    if ((s1 + s2 + s3 + s4) / 4) >= 80:\n",
        "        print('합격')\n",
        "    else:\n",
        "        print('불합격')\n",
        "else:\n",
        "    print('잘못된 점수')"
      ],
      "execution_count": 64,
      "outputs": [
        {
          "output_type": "stream",
          "text": [
            "99 85 101 90\n",
            "잘못된 점수\n"
          ],
          "name": "stdout"
        }
      ]
    }
  ]
}