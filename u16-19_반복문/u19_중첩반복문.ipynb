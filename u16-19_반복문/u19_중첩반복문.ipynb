{
  "nbformat": 4,
  "nbformat_minor": 0,
  "metadata": {
    "colab": {
      "name": "u19_중첩반복문.ipynb",
      "provenance": [],
      "collapsed_sections": []
    },
    "kernelspec": {
      "name": "python3",
      "display_name": "Python 3"
    },
    "language_info": {
      "name": "python"
    }
  },
  "cells": [
    {
      "cell_type": "markdown",
      "metadata": {
        "id": "jZx2-aLabN6E"
      },
      "source": [
        "# Unit 19. 중첩 반복문"
      ]
    },
    {
      "cell_type": "markdown",
      "metadata": {
        "id": "7ydkIbgQbQ_E"
      },
      "source": [
        "## 19.1 중첩(Nested) for loop"
      ]
    },
    {
      "cell_type": "code",
      "metadata": {
        "colab": {
          "base_uri": "https://localhost:8080/"
        },
        "id": "qNPprCGKIlJK",
        "outputId": "2e7ecb77-d13e-45d5-f45d-2c89d768ad57"
      },
      "source": [
        "for i in range(1, 6):\n",
        "  for k in range(10, 60, 10):\n",
        "    print(k, end = ' ')\n",
        "  print(i)"
      ],
      "execution_count": 2,
      "outputs": [
        {
          "output_type": "stream",
          "text": [
            "10 20 30 40 50 1\n",
            "10 20 30 40 50 2\n",
            "10 20 30 40 50 3\n",
            "10 20 30 40 50 4\n",
            "10 20 30 40 50 5\n"
          ],
          "name": "stdout"
        }
      ]
    },
    {
      "cell_type": "markdown",
      "metadata": {
        "id": "3lQTWlfkcsGU"
      },
      "source": [
        "## 19.2 별 사각형"
      ]
    },
    {
      "cell_type": "code",
      "metadata": {
        "colab": {
          "base_uri": "https://localhost:8080/"
        },
        "id": "Pp5pFW1bcWBr",
        "outputId": "a8eec785-2993-4993-9016-5fd597ff7a88"
      },
      "source": [
        "for i in range(5):\n",
        "  for _ in range(5):\n",
        "    print('*', end = '')  \n",
        "  print()"
      ],
      "execution_count": 5,
      "outputs": [
        {
          "output_type": "stream",
          "text": [
            "*****\n",
            "*****\n",
            "*****\n",
            "*****\n",
            "*****\n"
          ],
          "name": "stdout"
        }
      ]
    },
    {
      "cell_type": "code",
      "metadata": {
        "colab": {
          "base_uri": "https://localhost:8080/"
        },
        "id": "Q3Df-qfMc7z0",
        "outputId": "2b5d9807-2190-4354-886d-0099cdb0544b"
      },
      "source": [
        "# 평행사변형 그리기 (나)\n",
        "for i in range(5):\n",
        "  for _ in range(i):\n",
        "    print(' ', end = '')\n",
        "  for k in range(5):\n",
        "    print('*', end = '')\n",
        "  print()"
      ],
      "execution_count": 7,
      "outputs": [
        {
          "output_type": "stream",
          "text": [
            "*****\n",
            " *****\n",
            "  *****\n",
            "   *****\n",
            "    *****\n"
          ],
          "name": "stdout"
        }
      ]
    },
    {
      "cell_type": "code",
      "metadata": {
        "colab": {
          "base_uri": "https://localhost:8080/"
        },
        "id": "90ChZ9Ukd7Mo",
        "outputId": "14c71e34-a247-4b12-fbdb-89e15a54568e"
      },
      "source": [
        "# 평행사변형 그리기 (선생님)\n",
        "for i in range(4):\n",
        "  for k in range(0, i):\n",
        "    print(' ', end = '')\n",
        "  for _ in range(5):\n",
        "    print('*', end = '')\n",
        "  print()"
      ],
      "execution_count": 11,
      "outputs": [
        {
          "output_type": "stream",
          "text": [
            "*****\n",
            " *****\n",
            "  *****\n",
            "   *****\n"
          ],
          "name": "stdout"
        }
      ]
    },
    {
      "cell_type": "code",
      "metadata": {
        "id": "2v2jTiukeK2L"
      },
      "source": [
        "for i in range(0, 0):\n",
        "  print('*')"
      ],
      "execution_count": 12,
      "outputs": []
    },
    {
      "cell_type": "code",
      "metadata": {
        "colab": {
          "base_uri": "https://localhost:8080/"
        },
        "id": "uuKWXnbcepUz",
        "outputId": "34c82243-bef4-4985-d024-c8033978ee2a"
      },
      "source": [
        "for i in range(4):\n",
        "    print(' ' * i, '*' * 5, sep = '')"
      ],
      "execution_count": 13,
      "outputs": [
        {
          "output_type": "stream",
          "text": [
            "*****\n",
            " *****\n",
            "  *****\n",
            "   *****\n"
          ],
          "name": "stdout"
        }
      ]
    },
    {
      "cell_type": "markdown",
      "metadata": {
        "id": "TMGmffknfMbg"
      },
      "source": [
        "## 19.3 계단식 별모양"
      ]
    },
    {
      "cell_type": "code",
      "metadata": {
        "colab": {
          "base_uri": "https://localhost:8080/"
        },
        "id": "hXkXbt3Ve3VE",
        "outputId": "70d38022-02eb-47e1-bb70-4e871b31f760"
      },
      "source": [
        "for i in range(5):\n",
        "    print('*' * (i + 1))    "
      ],
      "execution_count": 20,
      "outputs": [
        {
          "output_type": "stream",
          "text": [
            "*\n",
            "**\n",
            "***\n",
            "****\n",
            "*****\n"
          ],
          "name": "stdout"
        }
      ]
    },
    {
      "cell_type": "code",
      "metadata": {
        "colab": {
          "base_uri": "https://localhost:8080/"
        },
        "id": "j7gMmSRgfZ22",
        "outputId": "4d5806a1-be87-4cb1-d794-06cfb1f26c0d"
      },
      "source": [
        "for i in range(5):\n",
        "    for _ in range(i + 1):\n",
        "        print('*', end = '')\n",
        "    print()"
      ],
      "execution_count": 15,
      "outputs": [
        {
          "output_type": "stream",
          "text": [
            "*\n",
            "**\n",
            "***\n",
            "****\n",
            "*****\n"
          ],
          "name": "stdout"
        }
      ]
    },
    {
      "cell_type": "code",
      "metadata": {
        "colab": {
          "base_uri": "https://localhost:8080/"
        },
        "id": "0ckfFRfmf_vR",
        "outputId": "0b5ab26e-1c53-4f8c-9169-99abb7e5d24a"
      },
      "source": [
        "for i in range(5):\n",
        "    for _ in range(i):\n",
        "        print(' ', end = '')\n",
        "    for _ in range(5 - i):\n",
        "        print('*', end = '')\n",
        "    print()"
      ],
      "execution_count": 17,
      "outputs": [
        {
          "output_type": "stream",
          "text": [
            "*****\n",
            " ****\n",
            "  ***\n",
            "   **\n",
            "    *\n"
          ],
          "name": "stdout"
        }
      ]
    },
    {
      "cell_type": "code",
      "metadata": {
        "colab": {
          "base_uri": "https://localhost:8080/"
        },
        "id": "E0UUg9eYgeEF",
        "outputId": "397e53c2-bf34-458d-ecde-c2e6e54c3d12"
      },
      "source": [
        "for i in range(5):\n",
        "    print(' ' * i, sep = '')\n",
        "    for k in range(5-i):\n",
        "        print('*', end = '')"
      ],
      "execution_count": 32,
      "outputs": [
        {
          "output_type": "stream",
          "text": [
            "\n",
            "***** \n",
            "****  \n",
            "***   \n",
            "**    \n",
            "*"
          ],
          "name": "stdout"
        }
      ]
    },
    {
      "cell_type": "code",
      "metadata": {
        "colab": {
          "base_uri": "https://localhost:8080/"
        },
        "id": "0OAlj_g1g__b",
        "outputId": "b4615e27-02c5-44aa-82cb-bd535c44d93f"
      },
      "source": [
        "for i in range(5):\n",
        "    print(' ' * i, '*' * (5 - i), sep = '')"
      ],
      "execution_count": 21,
      "outputs": [
        {
          "output_type": "stream",
          "text": [
            "*****\n",
            " ****\n",
            "  ***\n",
            "   **\n",
            "    *\n"
          ],
          "name": "stdout"
        }
      ]
    },
    {
      "cell_type": "markdown",
      "metadata": {
        "id": "ry3V2oOwmecx"
      },
      "source": [
        "### 다이아몬드 그리기"
      ]
    },
    {
      "cell_type": "code",
      "metadata": {
        "colab": {
          "base_uri": "https://localhost:8080/"
        },
        "id": "1NGceaOGhTrv",
        "outputId": "1fb28202-0602-4e29-f925-140daf092018"
      },
      "source": [
        "# 내가 한 것\n",
        "for i in range(5):\n",
        "    print(' ' * (4 - i), '*' * (2 * i + 1), sep = '')\n",
        "for i in range(4, 0, -1):\n",
        "    print(' ' * (5 - i), '*' * (2 * i - 1), sep = '')"
      ],
      "execution_count": 29,
      "outputs": [
        {
          "output_type": "stream",
          "text": [
            "    *\n",
            "   ***\n",
            "  *****\n",
            " *******\n",
            "*********\n",
            " *******\n",
            "  *****\n",
            "   ***\n",
            "    *\n"
          ],
          "name": "stdout"
        }
      ]
    },
    {
      "cell_type": "code",
      "metadata": {
        "colab": {
          "base_uri": "https://localhost:8080/"
        },
        "id": "HTBZ9lg6hvNq",
        "outputId": "8081a577-9d73-4f71-82aa-78634b4687d3"
      },
      "source": [
        "# 선생님이 한 것\n",
        "for i in range(5):\n",
        "    for _ in range(4 - i):\n",
        "        print(' ', end = '')\n",
        "    for _ in range(i * 2 + 1):\n",
        "        print('*', end = '')\n",
        "    print()\n",
        "for i in range(4):\n",
        "    for _ in range(i + 1):\n",
        "        print(' ', end = '')\n",
        "    for _ in range(2 * (4 - i) - 1):\n",
        "        print('*', end = '')\n",
        "    print()"
      ],
      "execution_count": 34,
      "outputs": [
        {
          "output_type": "stream",
          "text": [
            "    *\n",
            "   ***\n",
            "  *****\n",
            " *******\n",
            "*********\n",
            " *******\n",
            "  *****\n",
            "   ***\n",
            "    *\n"
          ],
          "name": "stdout"
        }
      ]
    },
    {
      "cell_type": "code",
      "metadata": {
        "colab": {
          "base_uri": "https://localhost:8080/"
        },
        "id": "MviJ1ASyltGA",
        "outputId": "b5bbbe01-5599-4739-c247-59e84da03b8e"
      },
      "source": [
        "for i in range(-4, 5):\n",
        "    print(' ' * (abs(i)), '*' * (-2 * abs(i) + 9), sep = '')"
      ],
      "execution_count": 35,
      "outputs": [
        {
          "output_type": "stream",
          "text": [
            "    *\n",
            "   ***\n",
            "  *****\n",
            " *******\n",
            "*********\n",
            " *******\n",
            "  *****\n",
            "   ***\n",
            "    *\n"
          ],
          "name": "stdout"
        }
      ]
    },
    {
      "cell_type": "code",
      "metadata": {
        "id": "yLiBNxqapcMM"
      },
      "source": [
        ""
      ],
      "execution_count": null,
      "outputs": []
    }
  ]
}